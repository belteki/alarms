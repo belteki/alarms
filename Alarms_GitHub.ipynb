{
 "cells": [
  {
   "cell_type": "markdown",
   "metadata": {},
   "source": [
    "# Analysis of neonatal ventilator alarms"
   ]
  },
  {
   "cell_type": "markdown",
   "metadata": {},
   "source": [
    "This file contains the code used for data processing, statistical analysis and visualization described in the following paper: **\"The frequency, duration and cause of ventilator alarms on a neonatal intensive care unit\"** *Archives of Disease in Childhood, Fetal & Neonatal Edition*, accepted for publication.\n",
    "\n",
    "Authors: Gusztav Belteki MD, PhD, FRCPCH, Colin Morley MD, FRCPCH\n",
    "\n",
    "Contact: gbelteki@aol.com"
   ]
  },
  {
   "cell_type": "markdown",
   "metadata": {},
   "source": [
    "The outputs (numbers, tables, graphs) of this Notebook have been suppressed to comply with copyrights. The corresponding data and graphs can be found in the paper."
   ]
  },
  {
   "cell_type": "markdown",
   "metadata": {},
   "source": [
    "#### Author: Dr Gusztav Belteki"
   ]
  },
  {
   "cell_type": "markdown",
   "metadata": {},
   "source": [
    "### Importing the required libraries and setting options"
   ]
  },
  {
   "cell_type": "code",
   "execution_count": null,
   "metadata": {
    "collapsed": true
   },
   "outputs": [],
   "source": [
    "import IPython\n",
    "import pandas as pd\n",
    "import numpy as np\n",
    "import matplotlib\n",
    "import matplotlib.pyplot as plt\n",
    "import os\n",
    "import sys\n",
    "import pickle\n",
    "import scipy as sp\n",
    "from scipy import stats\n",
    "from pandas import Series, DataFrame\n",
    "from datetime import datetime, timedelta\n",
    "\n",
    "%matplotlib inline\n",
    "\n",
    "matplotlib.style.use('classic')\n",
    "matplotlib.rcParams['figure.facecolor'] = 'w'\n",
    "\n",
    "pd.set_option('display.max_rows', 100)\n",
    "pd.set_option('display.max_columns', 100)\n",
    "pd.set_option('mode.chained_assignment', None)"
   ]
  },
  {
   "cell_type": "code",
   "execution_count": null,
   "metadata": {},
   "outputs": [],
   "source": [
    "print(\"Python version: {}\".format(sys.version))\n",
    "print(\"IPython version: {}\".format(IPython.__version__))\n",
    "print(\"pandas version: {}\".format(pd.__version__))\n",
    "print(\"matplotlib version: {}\".format(matplotlib.__version__))\n",
    "print(\"NumPy version: {}\".format(np.__version__))\n",
    "print(\"SciPy version: {}\".format(sp.__version__))"
   ]
  },
  {
   "cell_type": "markdown",
   "metadata": {},
   "source": [
    "### Import modules containing own functions"
   ]
  },
  {
   "cell_type": "code",
   "execution_count": null,
   "metadata": {
    "collapsed": true
   },
   "outputs": [],
   "source": [
    "from gb_loader import *\n",
    "from gb_stats import *\n",
    "from gb_transform import *"
   ]
  },
  {
   "cell_type": "markdown",
   "metadata": {},
   "source": [
    "### List and set the working directory and the directories to write out data"
   ]
  },
  {
   "cell_type": "code",
   "execution_count": null,
   "metadata": {
    "collapsed": true
   },
   "outputs": [],
   "source": [
    "# Topic of the Notebook which will also be the name of the subfolder containing results\n",
    "TOPIC = 'alarms_2'\n",
    "\n",
    "# Name of the external hard drive\n",
    "DRIVE = 'GUSZTI'\n",
    "\n",
    "# Directory containing clinical and blood gas data\n",
    "CWD = '/Users/guszti/ventilation_data'\n",
    "\n",
    "# Directory on external drive to read the ventilation data from\n",
    "DIR_READ = '/Volumes/%s/ventilation_data' % DRIVE\n",
    "\n",
    "# Directory to write results and selected images to \n",
    "if not os.path.isdir('%s/%s/%s' % (CWD, 'Analyses', TOPIC)):\n",
    "    os.makedirs('%s/%s/%s' % (CWD, 'Analyses', TOPIC))\n",
    "DIR_WRITE = '%s/%s/%s' % (CWD, 'Analyses', TOPIC)\n",
    "\n",
    "# Images and raw data will be written on an external hard drive\n",
    "if not os.path.isdir('/Volumes/%s/data_dump/%s' % (DRIVE, TOPIC)):\n",
    "    os.makedirs('/Volumes/%s/data_dump/%s' % (DRIVE, TOPIC))\n",
    "DATA_DUMP = '/Volumes/%s/data_dump/%s' % (DRIVE, TOPIC)"
   ]
  },
  {
   "cell_type": "code",
   "execution_count": null,
   "metadata": {},
   "outputs": [],
   "source": [
    "os.chdir(CWD)\n",
    "os.getcwd()"
   ]
  },
  {
   "cell_type": "code",
   "execution_count": null,
   "metadata": {},
   "outputs": [],
   "source": [
    "DIR_READ"
   ]
  },
  {
   "cell_type": "code",
   "execution_count": null,
   "metadata": {},
   "outputs": [],
   "source": [
    "DIR_WRITE"
   ]
  },
  {
   "cell_type": "code",
   "execution_count": null,
   "metadata": {},
   "outputs": [],
   "source": [
    "DATA_DUMP"
   ]
  },
  {
   "cell_type": "markdown",
   "metadata": {},
   "source": [
    "### List of the  recordings"
   ]
  },
  {
   "cell_type": "code",
   "execution_count": null,
   "metadata": {
    "collapsed": true
   },
   "outputs": [],
   "source": [
    "# One recording from each patient, all of them 24 hours old or longer\n",
    "# The sub folders containing the individual recordings have the same names within cwd\n",
    "\n",
    "recordings = ['DG001', 'DG002_1', 'DG003', 'DG004', 'DG005_1', 'DG006_2',  'DG007', 'DG008', 'DG009', 'DG010',\n",
    "              'DG011',  'DG013', 'DG014', 'DG015', 'DG016', 'DG017', 'DG018_1', 'DG020',\n",
    "              'DG021', 'DG022', 'DG023',  'DG025', 'DG026', 'DG027', 'DG028', 'DG029', 'DG030',\n",
    "              'DG031',  'DG032_2', 'DG033', 'DG034', 'DG035',  'DG037', 'DG038_1', 'DG039', 'DG040_1', 'DG041', \n",
    "              'DG042', 'DG043', 'DG044', 'DG045', 'DG046_2', 'DG047', 'DG048', 'DG049', 'DG050']"
   ]
  },
  {
   "cell_type": "markdown",
   "metadata": {},
   "source": [
    "### Import clinical details"
   ]
  },
  {
   "cell_type": "code",
   "execution_count": null,
   "metadata": {
    "collapsed": true
   },
   "outputs": [],
   "source": [
    "clinical_details = pd.read_excel('%s/data_grabber_patient_data_combined.xlsx' % CWD)\n",
    "clinical_details.index = clinical_details['Recording']"
   ]
  },
  {
   "cell_type": "code",
   "execution_count": null,
   "metadata": {
    "scrolled": true
   },
   "outputs": [],
   "source": [
    "clinical_details.info()"
   ]
  },
  {
   "cell_type": "code",
   "execution_count": null,
   "metadata": {
    "collapsed": true
   },
   "outputs": [],
   "source": [
    "current_weights = {}\n",
    "for recording in recordings:\n",
    "    current_weights[recording] = clinical_details.loc[recording, 'Current weight' ] / 1000"
   ]
  },
  {
   "cell_type": "markdown",
   "metadata": {},
   "source": [
    "### Import ventilator parameters retrieved with 1/sec frequency"
   ]
  },
  {
   "cell_type": "code",
   "execution_count": null,
   "metadata": {
    "scrolled": false
   },
   "outputs": [],
   "source": [
    "slow_measurements = {}\n",
    "\n",
    "for recording in recordings:\n",
    "    flist = os.listdir('%s/%s' % (DIR_READ, recording))\n",
    "    flist = [file for file in flist if not file.startswith('.')] # There are some hidden \n",
    "    # files on the hard drive starting with '.'; this step is necessary to ignore them\n",
    "    files = slow_measurement_finder(flist)\n",
    "    print('Loading recording %s' % recording)\n",
    "    print(files)\n",
    "    fnames = ['%s/%s/%s' % (DIR_READ, recording, filename) for filename in files]\n",
    "    slow_measurements[recording] =  data_loader(fnames)"
   ]
  },
  {
   "cell_type": "code",
   "execution_count": null,
   "metadata": {},
   "outputs": [],
   "source": [
    "# 46 recordings from 46 patients (4 recordings excluded as they were < 24 hours lon)\n",
    "len(slow_measurements)"
   ]
  },
  {
   "cell_type": "markdown",
   "metadata": {},
   "source": [
    "### Calculating parameters / body weight kg"
   ]
  },
  {
   "cell_type": "code",
   "execution_count": null,
   "metadata": {
    "collapsed": true,
    "scrolled": true
   },
   "outputs": [],
   "source": [
    "for recording in recordings:\n",
    "    try:\n",
    "        a = slow_measurements[recording]\n",
    "        a['VT_kg']       = a['5001|VT [mL]'] / current_weights[recording]\n",
    "        a['VTi_kg']      = a['5001|VTi [mL]'] / current_weights[recording]\n",
    "        a['VTe_kg']      = a['5001|VTe [mL]'] / current_weights[recording]\n",
    "        a['VTmand_kg']   = a['5001|VTmand [mL]'] / current_weights[recording]\n",
    "        a['VTspon_kg']   = a['5001|VTspon [mL]'] / current_weights[recording]\n",
    "        a['VTimand_kg']  = a['5001|VTimand [mL]'] / current_weights[recording]\n",
    "        a['VTemand_kg']  = a['5001|VTemand [mL]'] / current_weights[recording]\n",
    "        a['VTispon_kg']  = a['5001|VTispon [mL]'] / current_weights[recording]\n",
    "        a['VTespon_kg']  = a['5001|VTespon [mL]'] / current_weights[recording]\n",
    "    except KeyError:\n",
    "        # print('%s does not have all of the parameters' % recording)\n",
    "        pass"
   ]
  },
  {
   "cell_type": "code",
   "execution_count": null,
   "metadata": {
    "collapsed": true
   },
   "outputs": [],
   "source": [
    "for recording in recordings:\n",
    "    try:\n",
    "        a = slow_measurements[recording]\n",
    "        a['VThf_kg']      = a['5001|VThf [mL]'] / current_weights[recording]\n",
    "        a['DCO2_corr_kg'] = a['5001|DCO2 [10*mL^2/s]'] * 10 / (current_weights[recording]) ** 2\n",
    "    except KeyError:\n",
    "        # print('%s does not have all of the parameters' % recording)\n",
    "        pass"
   ]
  },
  {
   "cell_type": "code",
   "execution_count": null,
   "metadata": {
    "collapsed": true,
    "scrolled": true
   },
   "outputs": [],
   "source": [
    "for recording in recordings:\n",
    "    try:\n",
    "        a = slow_measurements[recording]\n",
    "        a['MV_kg'] =      a['5001|MV [L/min]'] / current_weights[recording]\n",
    "        a['MVi_kg'] =     a['5001|MVi [L/min]'] / current_weights[recording]\n",
    "        a['MVe_kg'] =     a['5001|MVe [L/min]'] / current_weights[recording]\n",
    "        a['MVemand_kg'] = a['5001|MVemand [L/min]'] / current_weights[recording]\n",
    "        a['MVespon_kg'] = a['5001|MVespon [L/min]'] / current_weights[recording]\n",
    "        a['MVleak_kg'] =  a['5001|MVleak [L/min]'] / current_weights[recording]\n",
    "    except KeyError:\n",
    "        # print('%s does not have all of the parameters' % recording)\n",
    "        pass"
   ]
  },
  {
   "cell_type": "markdown",
   "metadata": {
    "collapsed": true
   },
   "source": [
    "### Resampling to remove half-empty rows"
   ]
  },
  {
   "cell_type": "code",
   "execution_count": null,
   "metadata": {
    "collapsed": true
   },
   "outputs": [],
   "source": [
    "# 1/sec data are retrieved in two parts which need to be joined\n",
    "# This resampling steps combines the two parts\n",
    "\n",
    "for recording in recordings:\n",
    "    slow_measurements[recording] = slow_measurements[recording].resample('1S').mean()"
   ]
  },
  {
   "cell_type": "code",
   "execution_count": null,
   "metadata": {
    "collapsed": true
   },
   "outputs": [],
   "source": [
    "# Example\n",
    "slow_measurements['DG003'].head();"
   ]
  },
  {
   "cell_type": "markdown",
   "metadata": {},
   "source": [
    "### Save processed slow_measurements DataFrames to pickle archive"
   ]
  },
  {
   "cell_type": "code",
   "execution_count": null,
   "metadata": {},
   "outputs": [],
   "source": [
    "len(recordings)"
   ]
  },
  {
   "cell_type": "code",
   "execution_count": null,
   "metadata": {
    "collapsed": true
   },
   "outputs": [],
   "source": [
    "rec1 = recordings[:15]; rec2 = recordings[15:30]; rec3 = recordings[30:40]; rec4 = recordings[40:] "
   ]
  },
  {
   "cell_type": "raw",
   "metadata": {},
   "source": [
    "slow_measurements_1 = { key: value for key, value in slow_measurements.items() if key in rec1}\n",
    "with open('%s/%s.pickle' % (DATA_DUMP, 'slow_measurements_1'), 'wb') as handle:\n",
    "    pickle.dump(slow_measurements_1, handle, protocol=pickle.HIGHEST_PROTOCOL)"
   ]
  },
  {
   "cell_type": "raw",
   "metadata": {},
   "source": [
    "slow_measurements_2 = { key: value for key, value in slow_measurements.items() if key in rec2}\n",
    "with open('%s/%s.pickle' % (DATA_DUMP, 'slow_measurements_2'), 'wb') as handle:\n",
    "    pickle.dump(slow_measurements_2, handle, protocol=pickle.HIGHEST_PROTOCOL)"
   ]
  },
  {
   "cell_type": "raw",
   "metadata": {},
   "source": [
    "slow_measurements_3 = { key: value for key, value in slow_measurements.items() if key in rec3}\n",
    "with open('%s/%s.pickle' % (DATA_DUMP, 'slow_measurements_3'), 'wb') as handle:\n",
    "    pickle.dump(slow_measurements_3, handle, protocol=pickle.HIGHEST_PROTOCOL)"
   ]
  },
  {
   "cell_type": "raw",
   "metadata": {},
   "source": [
    "slow_measurements_4 = { key: value for key, value in slow_measurements.items() if key in rec3}\n",
    "with open('%s/%s.pickle' % (DATA_DUMP, 'slow_measurements_4'), 'wb') as handle:\n",
    "    pickle.dump(slow_measurements_4, handle, protocol=pickle.HIGHEST_PROTOCOL)"
   ]
  },
  {
   "cell_type": "markdown",
   "metadata": {},
   "source": [
    "### Import processed 'slow_measurements' data from pickle archive"
   ]
  },
  {
   "cell_type": "raw",
   "metadata": {},
   "source": [
    "with open('%s/%s.pickle' % (DATA_DUMP, 'slow_measurements_1'), 'rb') as handle:\n",
    "    slow_measurements_1 = pickle.load(handle)\n",
    "\n",
    "with open('%s/%s.pickle' % (DATA_DUMP, 'slow_measurements_2'), 'rb') as handle:\n",
    "    slow_measurements_2 = pickle.load(handle)\n",
    "\n",
    "with open('%s/%s.pickle' % (DATA_DUMP, 'slow_measurements_3'), 'rb') as handle:\n",
    "    slow_measurements_3 = pickle.load(handle)\n",
    "    \n",
    "with open('%s/%s.pickle' % (DATA_DUMP, 'slow_measurements_4'), 'rb') as handle:\n",
    "    slow_measurements_4 = pickle.load(handle)"
   ]
  },
  {
   "cell_type": "raw",
   "metadata": {},
   "source": [
    "slow_measurements = {}\n",
    "slow_measurements.update(slow_measurements_1)\n",
    "slow_measurements.update(slow_measurements_2)\n",
    "slow_measurements.update(slow_measurements_3)\n",
    "slow_measurements.update(slow_measurements_4)"
   ]
  },
  {
   "cell_type": "raw",
   "metadata": {},
   "source": [
    "del slow_measurements_1, slow_measurements_2, slow_measurements_3, slow_measurements_4"
   ]
  },
  {
   "cell_type": "markdown",
   "metadata": {},
   "source": [
    "### Calculate recording durations"
   ]
  },
  {
   "cell_type": "code",
   "execution_count": null,
   "metadata": {
    "collapsed": true
   },
   "outputs": [],
   "source": [
    "# Time stamps are obtained from 'slow measurements' \n",
    "\n",
    "recording_duration = {}\n",
    "for recording in recordings:\n",
    "    recording_duration[recording] = slow_measurements[recording].index[-1] - slow_measurements[recording].index[0]"
   ]
  },
  {
   "cell_type": "code",
   "execution_count": null,
   "metadata": {
    "collapsed": true
   },
   "outputs": [],
   "source": [
    "recording_duration_seconds = {}\n",
    "recording_duration_hours = {}\n",
    "\n",
    "for recording in recordings:\n",
    "    temp = recording_duration[recording]\n",
    "    recording_duration_seconds[recording] = temp.total_seconds()\n",
    "    recording_duration_hours[recording] = temp.total_seconds() / 3600"
   ]
  },
  {
   "cell_type": "markdown",
   "metadata": {},
   "source": [
    "### Visualising recording durations"
   ]
  },
  {
   "cell_type": "code",
   "execution_count": null,
   "metadata": {
    "collapsed": true
   },
   "outputs": [],
   "source": [
    "v = list(range(1, len(recordings)+1))\n",
    "w = [value for key, value in sorted(recording_duration_hours.items()) if key in recordings]"
   ]
  },
  {
   "cell_type": "code",
   "execution_count": null,
   "metadata": {},
   "outputs": [],
   "source": [
    "fig = plt.figure()\n",
    "fig.set_size_inches(20, 10)\n",
    "fig.subplots_adjust(left=None, bottom=None, right=None, top=None, wspace=None, hspace=None)\n",
    "ax1 = fig.add_subplot(1, 1, 1);\n",
    "ax1.bar(v, w, color = 'blue')\n",
    "plt.xlabel(\"Recordings\", fontsize  = 22)\n",
    "plt.ylabel(\"Hours\", fontsize  = 22)\n",
    "plt.title(\"Recording periods\" , fontsize = 22)\n",
    "plt.yticks(fontsize = 22)\n",
    "plt.xticks([i+1.5  for i, _ in enumerate(recordings)], recordings, fontsize = 22, rotation = 'vertical');\n",
    "plt.grid()\n",
    "\n",
    "fig.savefig('%s/%s' % (DIR_WRITE, 'recording_durations.jpg'), dpi=300, facecolor='w', edgecolor='w',\n",
    "        orientation='portrait', papertype=None, format='jpg',\n",
    "        transparent=False, bbox_inches=None, pad_inches=0.1,\n",
    "        frameon=True)    "
   ]
  },
  {
   "cell_type": "markdown",
   "metadata": {},
   "source": [
    "### Write recording times out into files"
   ]
  },
  {
   "cell_type": "code",
   "execution_count": null,
   "metadata": {
    "collapsed": true
   },
   "outputs": [],
   "source": [
    "recording_times_frame = DataFrame([recording_duration, recording_duration_hours, recording_duration_seconds],\n",
    "                            index = ['days', 'hours', 'seconds'])"
   ]
  },
  {
   "cell_type": "code",
   "execution_count": null,
   "metadata": {},
   "outputs": [],
   "source": [
    "recording_times_frame"
   ]
  },
  {
   "cell_type": "code",
   "execution_count": null,
   "metadata": {
    "collapsed": true
   },
   "outputs": [],
   "source": [
    "writer = pd.ExcelWriter('%s/%s' % (DIR_WRITE, 'recording_periods.xlsx'))\n",
    "recording_times_frame.to_excel(writer,'rec_periods')\n",
    "writer.save()"
   ]
  },
  {
   "cell_type": "markdown",
   "metadata": {},
   "source": [
    "### Import ventilator modes and settings"
   ]
  },
  {
   "cell_type": "markdown",
   "metadata": {},
   "source": [
    "##### Import ventilation settings"
   ]
  },
  {
   "cell_type": "code",
   "execution_count": null,
   "metadata": {
    "collapsed": true
   },
   "outputs": [],
   "source": [
    "vent_settings = {}\n",
    "\n",
    "for recording in recordings:\n",
    "    flist = os.listdir('%s/%s' % (DIR_READ, recording))\n",
    "    flist = [file for file in flist if not file.startswith('.')] # There are some hidden \n",
    "    # files on the hard drive starting with '.'; this step is necessary to ignore them\n",
    "    files = slow_setting_finder(flist)\n",
    "    # print('Loading recording %s' % recording)\n",
    "    # print(files)\n",
    "    fnames = ['%s/%s/%s' % (DIR_READ, recording, filename) for filename in files]\n",
    "    vent_settings[recording] =  data_loader(fnames)"
   ]
  },
  {
   "cell_type": "code",
   "execution_count": null,
   "metadata": {
    "collapsed": true
   },
   "outputs": [],
   "source": [
    "# remove less important ventilator settings to simplify the table\n",
    "\n",
    "vent_settings_selected = {}\n",
    "for recording in recordings:\n",
    "    vent_settings_selected[recording] = vent_settings_cleaner(vent_settings[recording])"
   ]
  },
  {
   "cell_type": "code",
   "execution_count": null,
   "metadata": {
    "collapsed": true
   },
   "outputs": [],
   "source": [
    "# Create a another dictionary of Dataframes wit some of the ventilation settings (set VT, set RR, set Pmax)\n",
    "\n",
    "lsts = [(['VT_weight'], ['VTi', 'VThf']), (['RR_set'], ['RR']), (['Pmax'], ['Pmax', 'Ampl hf max'])]\n",
    "vent_settings_2 = {}\n",
    "                                                            \n",
    "for recording in recordings:\n",
    "    frmes = []                                                       \n",
    "    for name, pars in lsts:\n",
    "        if pars in [['VTi', 'VThf']]:\n",
    "            ind = []\n",
    "            val = []\n",
    "            for index, row in vent_settings_selected[recording].iterrows():\n",
    "                if row['Id'] in pars:\n",
    "                    ind.append(index)\n",
    "                    val.append(row['Value New'] / current_weights[recording])\n",
    "                frmes.append(DataFrame(val, index = ind, columns = name))\n",
    "        else:\n",
    "            ind = []\n",
    "            val = []\n",
    "            for index, row in vent_settings_selected[recording].iterrows():\n",
    "                if row['Id'] in pars:\n",
    "                    ind.append(index)\n",
    "                    val.append(row['Value New'])\n",
    "                frmes.append(DataFrame(val, index = ind, columns = name))\n",
    "    vent_settings_2[recording] = pd.concat(frmes)\n",
    "    vent_settings_2[recording].drop_duplicates(inplace = True)"
   ]
  },
  {
   "cell_type": "markdown",
   "metadata": {},
   "source": [
    "##### Import ventilation modes"
   ]
  },
  {
   "cell_type": "code",
   "execution_count": null,
   "metadata": {
    "collapsed": true
   },
   "outputs": [],
   "source": [
    "vent_modes = {}\n",
    "\n",
    "for recording in recordings:\n",
    "    flist = os.listdir('%s/%s' % (DIR_READ, recording))\n",
    "    flist = [file for file in flist if not file.startswith('.')] # There are some hidden \n",
    "    # files on the hard drive starting with '.'; this step is necessary to ignore them\n",
    "    files = slow_text_finder(flist)\n",
    "    # print('Loading recording %s' % recording)\n",
    "    # print(files)\n",
    "    fnames = ['%s/%s/%s' % (DIR_READ, recording, filename) for filename in files]\n",
    "    vent_modes[recording] =  data_loader(fnames)"
   ]
  },
  {
   "cell_type": "code",
   "execution_count": null,
   "metadata": {
    "collapsed": true
   },
   "outputs": [],
   "source": [
    "# remove less important ventilator mode settings to simplify the table\n",
    "\n",
    "vent_modes_selected = {}\n",
    "for recording in recordings:\n",
    "    vent_modes_selected[recording] = vent_mode_cleaner(vent_modes[recording])"
   ]
  },
  {
   "cell_type": "markdown",
   "metadata": {},
   "source": [
    "### Save ventilation modes and settings into Excel files"
   ]
  },
  {
   "cell_type": "code",
   "execution_count": null,
   "metadata": {
    "collapsed": true
   },
   "outputs": [],
   "source": [
    "writer = pd.ExcelWriter('%s/%s' % (DIR_WRITE, 'ventilator_settings.xlsx'))\n",
    "for recording in recordings:\n",
    "    vent_settings[recording].to_excel(writer,'%s' % recording)\n",
    "writer.save()"
   ]
  },
  {
   "cell_type": "code",
   "execution_count": null,
   "metadata": {
    "collapsed": true
   },
   "outputs": [],
   "source": [
    "writer = pd.ExcelWriter('%s/%s' % (DIR_WRITE, 'ventilator_settings_selected.xlsx'))\n",
    "for recording in recordings:\n",
    "    vent_settings_selected[recording].to_excel(writer,'%s' % recording)\n",
    "writer.save()"
   ]
  },
  {
   "cell_type": "code",
   "execution_count": null,
   "metadata": {
    "collapsed": true
   },
   "outputs": [],
   "source": [
    "writer = pd.ExcelWriter('%s/%s' % (DIR_WRITE, 'ventilator_settings_2.xlsx'))\n",
    "for recording in recordings:\n",
    "    vent_settings_2[recording].to_excel(writer,'%s' % recording)\n",
    "writer.save()"
   ]
  },
  {
   "cell_type": "code",
   "execution_count": null,
   "metadata": {
    "collapsed": true
   },
   "outputs": [],
   "source": [
    "writer = pd.ExcelWriter('%s/%s' % (DIR_WRITE, 'ventilator_modes.xlsx'))\n",
    "for recording in recordings:\n",
    "    vent_modes[recording].to_excel(writer,'%s' % recording)\n",
    "writer.save()"
   ]
  },
  {
   "cell_type": "code",
   "execution_count": null,
   "metadata": {
    "collapsed": true
   },
   "outputs": [],
   "source": [
    "writer = pd.ExcelWriter('%s/%s' % (DIR_WRITE, 'ventilator_modes_selected.xlsx'))\n",
    "for recording in recordings:\n",
    "    vent_modes_selected[recording].to_excel(writer,'%s' % recording)\n",
    "writer.save()"
   ]
  },
  {
   "cell_type": "markdown",
   "metadata": {},
   "source": [
    "### Import alarm settings"
   ]
  },
  {
   "cell_type": "code",
   "execution_count": null,
   "metadata": {
    "collapsed": true
   },
   "outputs": [],
   "source": [
    "alarm_settings = {}\n",
    "\n",
    "for recording in recordings:\n",
    "    flist = os.listdir('%s/%s' % (DIR_READ, recording))\n",
    "    flist = [file for file in flist if not file.startswith('.')] # There are some hidden \n",
    "    # files on the hard drive starting with '.'; this step is necessary to ignore them\n",
    "    files = alarm_setting_finder(flist)\n",
    "    # print('Loading recording %s' % recording)\n",
    "    # print(files)\n",
    "    fnames = ['%s/%s/%s' % (DIR_READ, recording, filename) for filename in files]\n",
    "    alarm_settings[recording] =  data_loader(fnames)"
   ]
  },
  {
   "cell_type": "code",
   "execution_count": null,
   "metadata": {
    "collapsed": true
   },
   "outputs": [],
   "source": [
    "# Remove etCO2 limits which were not used\n",
    "\n",
    "alarm_settings_selected = {}\n",
    "\n",
    "for recording in recordings:\n",
    "    alarm_settings_selected[recording] = alarm_setting_cleaner(alarm_settings[recording])"
   ]
  },
  {
   "cell_type": "code",
   "execution_count": null,
   "metadata": {
    "collapsed": true
   },
   "outputs": [],
   "source": [
    "# Create a another dictionary of Dataframes with some of the alarm settings \n",
    "\n",
    "lsts = [(['MV_high_weight'], ['MVe_HL']), (['MV_low_weight'], ['MVe_LL']), \n",
    "        (['PIP_high'], ['PIP_HL']), (['RR_high'], ['RR_HL'])]\n",
    "alarm_settings_2 = {}\n",
    "                                                            \n",
    "for recording in recordings:\n",
    "    frmes = []                                                       \n",
    "    for name, pars in lsts:\n",
    "        if pars in [['MVe_HL'], ['MVe_LL']]:\n",
    "            ind = []\n",
    "            val = []\n",
    "            for index, row in alarm_settings_selected[recording].iterrows():\n",
    "                if row['Id'] in pars:\n",
    "                    ind.append(index)\n",
    "                    val.append(row['Value New'] / current_weights[recording])\n",
    "                frmes.append(DataFrame(val, index = ind, columns = name))\n",
    "        else:\n",
    "            ind = []\n",
    "            val = []\n",
    "            for index, row in alarm_settings_selected[recording].iterrows():\n",
    "                if row['Id'] in pars:\n",
    "                    ind.append(index)\n",
    "                    val.append(row['Value New'])\n",
    "                frmes.append(DataFrame(val, index = ind, columns = name))\n",
    "    alarm_settings_2[recording] = pd.concat(frmes)\n",
    "    alarm_settings_2[recording].drop_duplicates(inplace = True)"
   ]
  },
  {
   "cell_type": "code",
   "execution_count": null,
   "metadata": {
    "collapsed": true
   },
   "outputs": [],
   "source": [
    "# Write DataFrames containing alarm settings to a multisheet Excel file\n",
    "\n",
    "writer = pd.ExcelWriter('%s/%s' % (DIR_WRITE, 'alarm_settings.xlsx'))\n",
    "for recording in recordings:\n",
    "    alarm_settings[recording].to_excel(writer,'%s' % recording)\n",
    "writer.save()"
   ]
  },
  {
   "cell_type": "code",
   "execution_count": null,
   "metadata": {
    "collapsed": true
   },
   "outputs": [],
   "source": [
    "# Write DataFrames containing alarm settings to a multisheet Excel file\n",
    "\n",
    "writer = pd.ExcelWriter('%s/%s' % (DIR_WRITE, 'alarm_settings_2.xlsx'))\n",
    "for recording in recordings:\n",
    "    alarm_settings_2[recording].to_excel(writer,'%s' % recording)\n",
    "writer.save()"
   ]
  },
  {
   "cell_type": "markdown",
   "metadata": {},
   "source": [
    "### Import alarm states"
   ]
  },
  {
   "cell_type": "code",
   "execution_count": null,
   "metadata": {
    "collapsed": true
   },
   "outputs": [],
   "source": [
    "alarm_states = {}\n",
    "\n",
    "for recording in recordings:\n",
    "    flist = os.listdir('%s/%s' % (DIR_READ, recording))\n",
    "    flist = [file for file in flist if not file.startswith('.')] # There are some hidden \n",
    "    # files on the hard drive starting with '.'; this step is necessary to ignore them\n",
    "    files = alarm_state_finder(flist)\n",
    "    # print('Loading recording %s' % recording)\n",
    "    # print(files)\n",
    "    fnames = ['%s/%s/%s' % (DIR_READ, recording, filename) for filename in files]\n",
    "    alarm_states[recording] =  data_loader(fnames)"
   ]
  },
  {
   "cell_type": "code",
   "execution_count": null,
   "metadata": {
    "collapsed": true
   },
   "outputs": [],
   "source": [
    "# Write DataFrames containing alarm states to a multisheet Excel file\n",
    "\n",
    "writer = pd.ExcelWriter('%s/%s' % (DIR_WRITE, 'alarm_states.xlsx'))\n",
    "for recording in recordings:\n",
    "    alarm_states[recording].to_excel(writer,'%s' % recording)\n",
    "writer.save()"
   ]
  },
  {
   "cell_type": "markdown",
   "metadata": {},
   "source": [
    "### Calculate the total and average time of all recordings"
   ]
  },
  {
   "cell_type": "code",
   "execution_count": null,
   "metadata": {
    "collapsed": true
   },
   "outputs": [],
   "source": [
    "total_recording_time = timedelta(0)\n",
    "for recording in recordings:\n",
    "    total_recording_time += recording_duration[recording] "
   ]
  },
  {
   "cell_type": "code",
   "execution_count": null,
   "metadata": {},
   "outputs": [],
   "source": [
    "total_recording_time"
   ]
  },
  {
   "cell_type": "code",
   "execution_count": null,
   "metadata": {},
   "outputs": [],
   "source": [
    "mean_recording_time = total_recording_time / len(recordings)\n",
    "mean_recording_time"
   ]
  },
  {
   "cell_type": "markdown",
   "metadata": {},
   "source": [
    "### Generate alarm events from alarm states"
   ]
  },
  {
   "cell_type": "code",
   "execution_count": null,
   "metadata": {
    "collapsed": true
   },
   "outputs": [],
   "source": [
    "# Define function to retrieve alarm events from alarm timing data\n",
    "def alarm_events_calculator(dframe, al):\n",
    "    \n",
    "    '''\n",
    "    DataFrame, str -> DataFrame\n",
    "    \n",
    "    dframe: DataFrame containing alarm states\n",
    "    al:  alarm category (string)\n",
    "    \n",
    "    Returns a pd.DataFrame object with the time stamps when the alarm went off and the duration (in seconds)\n",
    "    of the alarm for alarm 'al' in recording 'rec'\n",
    "    '''\n",
    "    \n",
    "    alarms = dframe\n",
    "    alarm = alarms[alarms.Name == al]\n",
    "    length = len(alarm)\n",
    "    delta = np.array([(alarm.Date_Time[i] - alarm.Date_Time[i-1]).total_seconds() \n",
    "            for i in range(1, length) if alarm['State New'][i] == 'NotActive' and alarm['State New'][i-1] == 'Active'])\n",
    "    stamp = np.array([alarm.index[i-1] \n",
    "            for i in range(1, length) if alarm['State New'][i] == 'NotActive' and alarm['State New'][i-1] == 'Active'])\n",
    "    data = {'duration_seconds': delta, 'time_went_off': stamp,}\n",
    "    alarm_t = DataFrame(data, columns = ['time_went_off', 'duration_seconds'])\n",
    "    return alarm_t"
   ]
  },
  {
   "cell_type": "markdown",
   "metadata": {},
   "source": [
    "Using the files containing the alarm states, for each **alarm category** in **each recording** create a DataFrame with the **timestamps** the alarm went off and the **duration** of the alarm and store them in a dictionary of dictionaries "
   ]
  },
  {
   "cell_type": "code",
   "execution_count": null,
   "metadata": {
    "collapsed": true
   },
   "outputs": [],
   "source": [
    "# Create a list of alarms occurring during each recording\n",
    "\n",
    "alarm_list = {}\n",
    "\n",
    "for recording in recordings:\n",
    "    alarm_list[recording] = sorted(set(alarm_states[recording].Name))"
   ]
  },
  {
   "cell_type": "code",
   "execution_count": null,
   "metadata": {
    "collapsed": true
   },
   "outputs": [],
   "source": [
    "alarm_events = {}\n",
    "\n",
    "for recording in recordings:\n",
    "    alarm_events[recording] = {}\n",
    "    for alarm in alarm_list[recording]:\n",
    "        alarm_events[recording][alarm] = alarm_events_calculator(alarm_states[recording], alarm) "
   ]
  },
  {
   "cell_type": "code",
   "execution_count": null,
   "metadata": {
    "collapsed": true
   },
   "outputs": [],
   "source": [
    "# Write Dataframes containing the alarm events in Excel files,\n",
    "# one Excel file for each recording\n",
    "\n",
    "for recording in recordings:\n",
    "    writer = pd.ExcelWriter('%s/%s%s' % (DIR_WRITE, recording, '_alarm_events.xlsx'))\n",
    "    for alarm in alarm_list[recording]:\n",
    "        alarm_events[recording][alarm].to_excel(writer, alarm[:20])\n",
    "    \n",
    "    writer.save()"
   ]
  },
  {
   "cell_type": "markdown",
   "metadata": {},
   "source": [
    "### Calculate descriptive statistics for each alarm in each recording and write them to file"
   ]
  },
  {
   "cell_type": "code",
   "execution_count": null,
   "metadata": {
    "collapsed": true
   },
   "outputs": [],
   "source": [
    "def alarm_stats_calculator(dframe, rec, al):\n",
    "    '''\n",
    "    dframe: DataFrame containing alarm events \n",
    "    rec: recording (string)\n",
    "    al: alarm (string)\n",
    "    \n",
    "    Returns detailed statistics about a particular alarm (al) in a particular recording (rec);\n",
    "    - number of times alarm went off and its value normalized to 24 hour periods\n",
    "    - mean, median, standard deviation, mean absolute deviation, minimum, 25th centile, 75th centile, maximum\n",
    "    time period when the alarm was off\n",
    "    - the total amount of time the alarm was off and its relative value in percent as the total recording time \n",
    "    '''\n",
    "    alarm = dframe[al].duration_seconds\n",
    "    return  (alarm.size, round((alarm.size / (recording_duration_hours[rec] / 24)), 1), \n",
    "            round(alarm.mean() , 1), round(alarm.median(), 1), round(alarm.std(), 1), round(alarm.min() , 1), \n",
    "            round(alarm.quantile(0.25), 1), round(alarm.quantile(0.75), 1), round(alarm.max(), 1),\n",
    "            round(alarm.sum(), 1), round(alarm.sum() * 100 / recording_duration_seconds[rec] ,3))"
   ]
  },
  {
   "cell_type": "code",
   "execution_count": null,
   "metadata": {
    "collapsed": true
   },
   "outputs": [],
   "source": [
    "alarm_stats = {}\n",
    "\n",
    "for recording in recordings:\n",
    "    alarm_stats[recording] = {}\n",
    "    for alarm in alarm_list[recording]:\n",
    "        data = alarm_stats_calculator(alarm_events[recording], recording, alarm)\n",
    "        frame = DataFrame([data], columns = ['number of events', 'number of event per 24h', \n",
    "                                             'mean duration (s)', 'median duration (s)', 'SD duration (s)', \n",
    "                                             'miminum duration (s)', \n",
    "                                             'duration 25th centile (s)', 'duration 75th centile (s)', \n",
    "                                             'maximum duration (s)', 'cumulative duration (s)', \n",
    "                                             'percentage of recording length (%)'], index = [alarm])\n",
    "        alarm_stats[recording][alarm] = frame"
   ]
  },
  {
   "cell_type": "code",
   "execution_count": null,
   "metadata": {
    "collapsed": true
   },
   "outputs": [],
   "source": [
    "# Write descriptive statistics in a multisheet Excel file\n",
    "\n",
    "writer = pd.ExcelWriter('%s/%s' % (DIR_WRITE, 'alarm_stats.xlsx'))\n",
    "for recording in recordings:\n",
    "    stats = []\n",
    "    for alarm in alarm_stats[recording]:\n",
    "        stats.append(alarm_stats[recording][alarm])\n",
    "    stats_all = pd.concat(stats)\n",
    "    stats_all.to_excel(writer, recording)\n",
    "writer.save()"
   ]
  },
  {
   "cell_type": "markdown",
   "metadata": {},
   "source": [
    "### Visualise alarm statistics for the individual alarms in the individual recording"
   ]
  },
  {
   "cell_type": "code",
   "execution_count": null,
   "metadata": {
    "collapsed": true
   },
   "outputs": [],
   "source": [
    "# Generates a plot with the cumulative times (in seconds) of the various alarm occurring during recording (rec).\n",
    "# Displays the plot\n",
    "\n",
    "def alarm_plot_1(rec):\n",
    "    fig = plt.figure()\n",
    "    fig.set_size_inches(25, 8)\n",
    "    fig.subplots_adjust(left=0.4, bottom=None, right=None, top=None,\n",
    "    wspace=None, hspace=0.7)\n",
    "    ax1 = fig.add_subplot(1, 1, 1)\n",
    "    xs = [i + 0.1 for i, _ in enumerate(alarm_list[rec])]\n",
    "    stats = []\n",
    "    for alarm in alarm_list[rec]:\n",
    "        stats.append(alarm_stats[rec][alarm]['cumulative duration (s)'])\n",
    "    stats_all = pd.concat(stats)\n",
    "    plt.barh(xs, stats_all, color = 'red')\n",
    "    plt.xlabel(\"seconds\", fontsize  = 24)\n",
    "    plt.title(\"Recording %s : How long was the alarm active over the %d seconds of recording?\" % (rec, \n",
    "                recording_duration_seconds[rec]), fontsize = 22)\n",
    "    plt.yticks([i + 0.5 for i, _ in enumerate(alarm_list[rec])], alarm_list[rec], fontsize = 22)\n",
    "    plt.xticks(fontsize = 20)"
   ]
  },
  {
   "cell_type": "code",
   "execution_count": null,
   "metadata": {
    "collapsed": true
   },
   "outputs": [],
   "source": [
    "# Generates a plot with the cumulative times (in seconds) of the various alarm occurring during recording (rec).\n",
    "# Does not displays the plot but write it into a jpg file.\n",
    "# NB: the resolution of the image is only 100 dpi - for publication quality higher is needed\n",
    "\n",
    "def alarm_plot_1_write(rec):\n",
    "    fig = plt.figure()\n",
    "    fig.set_size_inches(25, 8)\n",
    "    fig.subplots_adjust(left=0.4, bottom=None, right=None, top=None,\n",
    "    wspace=None, hspace=0.7)\n",
    "    ax1 = fig.add_subplot(1, 1, 1)\n",
    "    xs = [i + 0.1 for i, _ in enumerate(alarm_list[rec])]\n",
    "    stats = []\n",
    "    for alarm in alarm_list[rec]:\n",
    "        stats.append(alarm_stats[rec][alarm]['cumulative duration (s)'])\n",
    "    stats_all = pd.concat(stats)\n",
    "    plt.barh(xs, stats_all, color = 'red')\n",
    "    plt.xlabel(\"seconds\", fontsize  = 24)\n",
    "    plt.title(\"Recording %s : How long was the alarm active over the %d seconds of recording?\" % (rec, \n",
    "                recording_duration_seconds[rec]), fontsize = 22)\n",
    "    plt.yticks([i + 0.5 for i, _ in enumerate(alarm_list[rec])], alarm_list[rec], fontsize = 22)\n",
    "    plt.xticks(fontsize = 20)\n",
    "    \n",
    "    fig.savefig('%s/%s_%s.jpg' % (dir_write, 'alarm_durations_1', rec), dpi=100, facecolor='w', edgecolor='w',\n",
    "        orientation='portrait', papertype=None, format='jpg',\n",
    "        transparent=False, bbox_inches=None, pad_inches=0.1,\n",
    "        frameon=True)\n",
    "    plt.close(fig)"
   ]
  },
  {
   "cell_type": "code",
   "execution_count": null,
   "metadata": {
    "collapsed": true
   },
   "outputs": [],
   "source": [
    "# Generates a plot with the cumulative times (expressed as percentage of the total recording time) \n",
    "# of the various alarm occurring during recording (rec).\n",
    "# Displays the plot\n",
    "\n",
    "def alarm_plot_2(rec):\n",
    "    fig = plt.figure()\n",
    "    fig.set_size_inches(25, 8)\n",
    "    fig.subplots_adjust(left=0.4, bottom=None, right=None, top=None,\n",
    "    wspace=None, hspace=0.7)\n",
    "    ax1 = fig.add_subplot(1, 1, 1)\n",
    "    xs = [i + 0.1 for i, _ in enumerate(alarm_list[rec])]\n",
    "    stats = []\n",
    "    for alarm in alarm_list[rec]:\n",
    "        stats.append(alarm_stats[rec][alarm]['percentage of recording length (%)'])\n",
    "    stats_all = pd.concat(stats)\n",
    "    plt.barh(xs, stats_all, color = 'red')\n",
    "    plt.xlabel(\"% of total recording time\", fontsize  = 24)\n",
    "    plt.title(\"Recording %s: How long the alarm active over the %s hours of recording?\" % (rec, \n",
    "            str(recording_duration[rec])), fontsize = 22)\n",
    "    plt.yticks([i + 0.5 for i, _ in enumerate(alarm_list[rec])], alarm_list[rec], fontsize = 22)\n",
    "    plt.xticks(fontsize = 20)"
   ]
  },
  {
   "cell_type": "code",
   "execution_count": null,
   "metadata": {
    "collapsed": true
   },
   "outputs": [],
   "source": [
    "# Generates a plot with the cumulative times (expressed as percentage of the total recording time) \n",
    "# of the various alarm occurring during recording (rec).\n",
    "# Does not displays the plot but write it into a jpg file.\n",
    "# NB: the resolution of the image is only 100 dpi - for publication quality higher is needed\n",
    "\n",
    "def alarm_plot_2_write(rec):\n",
    "    fig = plt.figure()\n",
    "    fig.set_size_inches(25, 8)\n",
    "    fig.subplots_adjust(left=0.4, bottom=None, right=None, top=None,\n",
    "    wspace=None, hspace=0.7)\n",
    "    ax1 = fig.add_subplot(1, 1, 1)\n",
    "    xs = [i + 0.1 for i, _ in enumerate(alarm_list[rec])]\n",
    "    stats = []\n",
    "    for alarm in alarm_list[rec]:\n",
    "        stats.append(alarm_stats[rec][alarm]['percentage of recording length (%)'])\n",
    "    stats_all = pd.concat(stats)\n",
    "    plt.barh(xs, stats_all, color = 'red')\n",
    "    plt.xlabel(\"% of total recording time\", fontsize  = 24)\n",
    "    plt.title(\"Recording %s: How long the alarm active over the %s hours of recording?\" % (rec, \n",
    "            str(recording_duration[rec])), fontsize = 22)\n",
    "    plt.yticks([i + 0.5 for i, _ in enumerate(alarm_list[rec])], alarm_list[rec], fontsize = 22)\n",
    "    plt.xticks(fontsize = 20)\n",
    "    \n",
    "    fig.savefig('%s/%s_%s.jpg' % (dir_write, 'alarm_durations_2', rec), dpi=100, facecolor='w', edgecolor='w',\n",
    "        orientation='portrait', papertype=None, format='jpg',\n",
    "        transparent=False, bbox_inches=None, pad_inches=0.1,\n",
    "        frameon=True)\n",
    "    plt.close(fig)"
   ]
  },
  {
   "cell_type": "code",
   "execution_count": null,
   "metadata": {
    "collapsed": true
   },
   "outputs": [],
   "source": [
    "# Displays the individual alarm events of the recording (rec) along the time axis\n",
    "# Displays the plot\n",
    "\n",
    "def alarm_plot_3(rec):\n",
    "    alarm_state = alarm_states[rec]\n",
    "    numbered = Series(np.zeros(len(alarm_state)), index = alarm_state.index)\n",
    "    for i in range(1, len(alarm_state)):\n",
    "        if alarm_state.iloc[i]['State New'] == 'Active':\n",
    "            numbered[i] = alarm_list[rec].index(alarm_state.iloc[i]['Id']) + 1\n",
    "    \n",
    "    fig = plt.figure()\n",
    "    fig.set_size_inches(17, 8)\n",
    "    fig.subplots_adjust(left=0.4, bottom=None, right=None, top=None,\n",
    "    wspace=None, hspace=0.7)\n",
    "    ax1 = fig.add_subplot(1, 1, 1);\n",
    "\n",
    "    ax1.plot(alarm_state.index,  numbered, '|', color = 'red', markersize = 16, markeredgewidth = 1 )\n",
    "    plt.xlabel(\"Time\", fontsize  = 20)\n",
    "    plt.title(\"Alarm events during recording %s\" % rec , fontsize = 24)\n",
    "    plt.yticks([i+1  for i, _ in enumerate(alarm_list[rec])], alarm_list[rec], fontsize = 18);\n",
    "    plt.xticks(fontsize = 14, rotation = 30)\n",
    "    plt.ylim(0.5, len(alarm_list[rec]) + 0.5);"
   ]
  },
  {
   "cell_type": "code",
   "execution_count": null,
   "metadata": {
    "collapsed": true
   },
   "outputs": [],
   "source": [
    "# Displays the individual alarm events of recording (rec) along the time axis\n",
    "# Does not displays the plot but write it into a jpg file.\n",
    "# NB: the resolution of the image is only 100 dpi - for publication quality higher is needed\n",
    "\n",
    "def alarm_plot_3_write(rec):\n",
    "    alarm_state = alarm_states[rec]\n",
    "    numbered = Series(np.zeros(len(alarm_state)), index = alarm_state.index)\n",
    "    for i in range(1, len(alarm_state)):\n",
    "        if alarm_state.iloc[i]['State New'] == 'Active':\n",
    "            numbered[i] = alarm_list[rec].index(alarm_state.iloc[i]['Id']) + 1\n",
    "    \n",
    "    fig = plt.figure()\n",
    "    fig.set_size_inches(17, 8)\n",
    "    fig.subplots_adjust(left=0.4, bottom=None, right=None, top=None,\n",
    "    wspace=None, hspace=0.7)\n",
    "    ax1 = fig.add_subplot(1, 1, 1);\n",
    "\n",
    "    ax1.plot(alarm_state.index,  numbered, '|', color = 'red', markersize = 16, markeredgewidth = 1 )\n",
    "    plt.xlabel(\"Time\", fontsize  = 20)\n",
    "    plt.title(\"Alarm events during recording %s\" % rec , fontsize = 24)\n",
    "    plt.yticks([i+1  for i, _ in enumerate(alarm_list[rec])], alarm_list[rec], fontsize = 18);\n",
    "    plt.xticks(fontsize = 14, rotation = 30)\n",
    "    plt.ylim(0.5, len(alarm_list[rec]) + 0.5)\n",
    "    \n",
    "    fig.savefig('%s/%s_%s.pdf' % (dir_write, 'individual_alarms', rec), dpi=100, facecolor='w', edgecolor='w',\n",
    "        orientation='portrait', papertype=None, format='pdf',\n",
    "        transparent=False, bbox_inches=None, pad_inches=0.1,\n",
    "        frameon=True)\n",
    "    plt.close(fig)"
   ]
  },
  {
   "cell_type": "markdown",
   "metadata": {},
   "source": [
    "##### Example plots"
   ]
  },
  {
   "cell_type": "code",
   "execution_count": null,
   "metadata": {},
   "outputs": [],
   "source": [
    "alarm_plot_1('DG032_2')"
   ]
  },
  {
   "cell_type": "code",
   "execution_count": null,
   "metadata": {},
   "outputs": [],
   "source": [
    "alarm_plot_2('DG032_2')"
   ]
  },
  {
   "cell_type": "code",
   "execution_count": null,
   "metadata": {},
   "outputs": [],
   "source": [
    "alarm_plot_3('DG032_2')"
   ]
  },
  {
   "cell_type": "markdown",
   "metadata": {},
   "source": [
    "#### Write all graphs to files"
   ]
  },
  {
   "cell_type": "raw",
   "metadata": {
    "collapsed": true
   },
   "source": [
    "for recording in recordings:\n",
    "    alarm_plot_1_write(recording)\n",
    "    alarm_plot_2_write(recording)\n",
    "    alarm_plot_3_write(recording)"
   ]
  },
  {
   "cell_type": "markdown",
   "metadata": {},
   "source": [
    "### Generate cumulative descriptive statistics of all alarms combined in each recording"
   ]
  },
  {
   "cell_type": "markdown",
   "metadata": {},
   "source": [
    "#### For each recording, what was the total number of alarm events and the number of events normalized for 24 hour periods"
   ]
  },
  {
   "cell_type": "code",
   "execution_count": null,
   "metadata": {
    "collapsed": true
   },
   "outputs": [],
   "source": [
    "total_alarm_number_recordings = {} # dictionary containing the total number of alarm events in each recording\n",
    "for recording in recordings:\n",
    "    total = 0\n",
    "    for alarm in alarm_list[recording]:\n",
    "        total += len(alarm_events[recording][alarm].index)\n",
    "    total_alarm_number_recordings[recording] = total"
   ]
  },
  {
   "cell_type": "code",
   "execution_count": null,
   "metadata": {
    "collapsed": true
   },
   "outputs": [],
   "source": [
    "total_alarm_number_recordings_24H = {} # dictionary containing the total number of alarm events in each recording\n",
    "                                       # corrected for 24 hour period\n",
    "for recording in recordings:\n",
    "    total_alarm_number_recordings_24H[recording] = (total_alarm_number_recordings[recording] / \n",
    "                                                    (recording_duration[recording].total_seconds() / 86400))"
   ]
  },
  {
   "cell_type": "markdown",
   "metadata": {},
   "source": [
    "#### In each recording, what was the mean, median, sd, mad, min, 25pc, 75pc, max of alarm durations"
   ]
  },
  {
   "cell_type": "code",
   "execution_count": null,
   "metadata": {
    "collapsed": true,
    "scrolled": false
   },
   "outputs": [],
   "source": [
    "alarm_durations_recordings = {} # a dictionary of Series. Each series contains all the alarm durations of a recording\n",
    "for recording in recordings:\n",
    "    durations = []\n",
    "    for alarm in alarm_list[recording]:\n",
    "        durations.append(alarm_events[recording][alarm]['duration_seconds'])\n",
    "    durations = pd.concat(durations)\n",
    "    alarm_durations_recordings[recording] = durations"
   ]
  },
  {
   "cell_type": "code",
   "execution_count": null,
   "metadata": {
    "collapsed": true
   },
   "outputs": [],
   "source": [
    "# Dictionaries containing various descriptive statistics for each recording\n",
    "\n",
    "mean_alarm_duration_recordings = {}\n",
    "median_alarm_duration_recordings = {}\n",
    "sd_alarm_duration_recordings = {}\n",
    "mad_alarm_duration_recordings = {}\n",
    "min_alarm_duration_recordings = {}\n",
    "pc25_alarm_duration_recordings = {}\n",
    "pc75_alarm_duration_recordings = {}\n",
    "max_alarm_duration_recordings = {}"
   ]
  },
  {
   "cell_type": "code",
   "execution_count": null,
   "metadata": {
    "collapsed": true
   },
   "outputs": [],
   "source": [
    "for recording in recordings:\n",
    "    mean_alarm_duration_recordings[recording] = round(alarm_durations_recordings[recording].mean(), 4)\n",
    "    median_alarm_duration_recordings[recording] = round(alarm_durations_recordings[recording].median(), 4)\n",
    "    sd_alarm_duration_recordings[recording] = round(alarm_durations_recordings[recording].std(), 4)\n",
    "    mad_alarm_duration_recordings[recording] = round(alarm_durations_recordings[recording].mad(), 4)\n",
    "    min_alarm_duration_recordings[recording] = round(alarm_durations_recordings[recording].min(), 4)\n",
    "    pc25_alarm_duration_recordings[recording] = round(alarm_durations_recordings[recording].quantile(0.25), 4)\n",
    "    pc75_alarm_duration_recordings[recording] = round(alarm_durations_recordings[recording].quantile(0.75), 4)\n",
    "    max_alarm_duration_recordings[recording] = round(alarm_durations_recordings[recording].max(), 4)"
   ]
  },
  {
   "cell_type": "code",
   "execution_count": null,
   "metadata": {
    "collapsed": true
   },
   "outputs": [],
   "source": [
    "# Create DataFrame containing cumulative alarm statistics for each recording\n",
    "\n",
    "alarm_stats_cum_rec = DataFrame([total_alarm_number_recordings, \n",
    "                                 total_alarm_number_recordings_24H,\n",
    "                                 mean_alarm_duration_recordings,  \n",
    "                                 median_alarm_duration_recordings,\n",
    "                                 sd_alarm_duration_recordings,\n",
    "                                 mad_alarm_duration_recordings,\n",
    "                                 min_alarm_duration_recordings,\n",
    "                                 pc25_alarm_duration_recordings,\n",
    "                                 pc75_alarm_duration_recordings,\n",
    "                                 max_alarm_duration_recordings],\n",
    "    index = ['count', 'count per 24h', 'mean duration (sec)', 'median duration (sec)', 'sd duration (sec)', \n",
    "             'mad duration (sec)', 'min duration (sec)', '25th cent duration (sec)', '75th cent duration (sec)',\n",
    "             'max duration (sec)'])"
   ]
  },
  {
   "cell_type": "code",
   "execution_count": null,
   "metadata": {},
   "outputs": [],
   "source": [
    "alarm_stats_cum_rec.round(2)"
   ]
  },
  {
   "cell_type": "code",
   "execution_count": null,
   "metadata": {
    "collapsed": true
   },
   "outputs": [],
   "source": [
    "# Write statistics to Excel file\n",
    "\n",
    "writer = pd.ExcelWriter('%s/%s' % (DIR_WRITE, 'alarm_stats_cum_rec.xlsx'))\n",
    "alarm_stats_cum_rec.round(2).to_excel(writer, 'cumulative_stats')\n",
    "writer.save()"
   ]
  },
  {
   "cell_type": "markdown",
   "metadata": {},
   "source": [
    "### Visualize cumulative statistics of recordings"
   ]
  },
  {
   "cell_type": "code",
   "execution_count": null,
   "metadata": {},
   "outputs": [],
   "source": [
    "# Plot the absolute number of alarm events for each recording\n",
    "\n",
    "fig = plt.figure()\n",
    "fig.set_size_inches(12, 12)\n",
    "fig.subplots_adjust(left=None, bottom=None, right=None, top=None, wspace=None, hspace=0.7)\n",
    "ax1 = fig.add_subplot(1, 1, 1);\n",
    "ax1.barh(list(range(1, len(recordings)+1)), alarm_stats_cum_rec.loc['count', :], color = 'blue')\n",
    "plt.ylabel(\"Recordings\", fontsize  = 22)\n",
    "plt.xlabel(\"\", fontsize  = 22)\n",
    "plt.title(\"Number of alarm events\" , fontsize = 26)\n",
    "ax1.tick_params(which = 'both', labelsize=14)\n",
    "plt.yticks([i+1.5  for i, _ in enumerate(recordings)], recordings, rotation = 'horizontal')\n",
    "plt.grid()\n",
    "\n",
    "fig.savefig('%s/%s' % (DIR_WRITE, 'number_events_rec.jpg'), dpi=300, facecolor='w', edgecolor='w',\n",
    "        orientation='portrait', papertype=None, format='jpg',\n",
    "        transparent=False, bbox_inches=None, pad_inches=0.1,\n",
    "        frameon=True)"
   ]
  },
  {
   "cell_type": "code",
   "execution_count": null,
   "metadata": {},
   "outputs": [],
   "source": [
    "# Plot the number of alarm events in each recording normalised for 24 hour periods\n",
    "fig = plt.figure()\n",
    "fig.set_size_inches(12, 12)\n",
    "fig.subplots_adjust(left=None, bottom=None, right=None, top=None, wspace=None, hspace=0.7)\n",
    "ax1 = fig.add_subplot(1, 1, 1);\n",
    "ax1.barh(list(range(1, len(recordings)+1)), alarm_stats_cum_rec.loc['count per 24h', :], color = 'blue')\n",
    "plt.ylabel(\"Recordings\", fontsize  = 22)\n",
    "plt.xlabel(\"\", fontsize  = 22)\n",
    "plt.title(\"Number of alarm events per 24 hours\" , fontsize = 26)\n",
    "ax1.tick_params(which = 'both', labelsize=14)\n",
    "plt.yticks([i+1.5  for i, _ in enumerate(recordings)], recordings, rotation = 'horizontal')\n",
    "plt.grid()\n",
    "\n",
    "fig.savefig('%s/%s' % (DIR_WRITE, 'number_events_24H_rec.jpg'), dpi=300, facecolor='w', edgecolor='w',\n",
    "        orientation='portrait', papertype=None, format='jpg',\n",
    "        transparent=False, bbox_inches=None, pad_inches=0.1,\n",
    "        frameon=True)"
   ]
  },
  {
   "cell_type": "code",
   "execution_count": null,
   "metadata": {},
   "outputs": [],
   "source": [
    "# Median duration of alarm events\n",
    "\n",
    "fig = plt.figure()\n",
    "fig.set_size_inches(12, 12)\n",
    "fig.subplots_adjust(left=None, bottom=None, right=None, top=None, wspace=None, hspace=0.7)\n",
    "ax1 = fig.add_subplot(1, 1, 1);\n",
    "ax1.barh(list(range(1, len(recordings)+1)), alarm_stats_cum_rec.loc['mean duration (sec)', :], color = 'blue')\n",
    "plt.ylabel(\"Recordings\", fontsize  = 22)\n",
    "plt.xlabel(\"seconds\", fontsize  = 22)\n",
    "plt.title(\"Median duration of alarm events\" , fontsize = 26)\n",
    "ax1.tick_params(which = 'both', labelsize=14)\n",
    "plt.yticks([i+1.5  for i, _ in enumerate(recordings)], recordings,  rotation = 'horizontal')\n",
    "plt.grid()\n",
    "\n",
    "fig.savefig('%s/%s' % (DIR_WRITE, 'median_duration_rec.jpg'), dpi=300, facecolor='w', edgecolor='w',\n",
    "        orientation='portrait', papertype=None, format='jpg',\n",
    "        transparent=False, bbox_inches=None, pad_inches=0.1,\n",
    "        frameon=True)"
   ]
  },
  {
   "cell_type": "markdown",
   "metadata": {},
   "source": [
    "### Generate cumulative statistics of each alarm in all recordings combined"
   ]
  },
  {
   "cell_type": "code",
   "execution_count": null,
   "metadata": {
    "collapsed": true
   },
   "outputs": [],
   "source": [
    "# Create a list of all alarms occurring in any recording\n",
    "\n",
    "total_alarm_list = set()\n",
    "for recording in recordings:\n",
    "    total_alarm_list.update(alarm_list[recording])\n",
    "total_alarm_list = sorted(total_alarm_list)"
   ]
  },
  {
   "cell_type": "code",
   "execution_count": null,
   "metadata": {},
   "outputs": [],
   "source": [
    "# A list of all alarms occurring during the service evaluation\n",
    "\n",
    "total_alarm_list"
   ]
  },
  {
   "cell_type": "code",
   "execution_count": null,
   "metadata": {
    "collapsed": true
   },
   "outputs": [],
   "source": [
    "# Write alarm list to Excel file\n",
    "\n",
    "writer = pd.ExcelWriter('%s/%s' % (DIR_WRITE, 'total_alarm_list.xlsx'))\n",
    "DataFrame(total_alarm_list, columns = ['alarm categories']).to_excel(writer, 'total_alarm_list')\n",
    "writer.save()"
   ]
  },
  {
   "cell_type": "markdown",
   "metadata": {},
   "source": [
    "#### For each alarm, what was number of alarm events across all recordings and the number of events normalized per 24 hour recording time"
   ]
  },
  {
   "cell_type": "code",
   "execution_count": null,
   "metadata": {
    "collapsed": true
   },
   "outputs": [],
   "source": [
    "total_alarm_number_alarms = {} # dictionary containing the number of alarm events in all recordings for the \n",
    "                               # various alarm categories\n",
    "for alarm in total_alarm_list:\n",
    "    total = 0\n",
    "    for recording in recordings:\n",
    "        if alarm in alarm_list[recording]:\n",
    "            total += len(alarm_events[recording][alarm].index)\n",
    "    total_alarm_number_alarms[alarm] = total"
   ]
  },
  {
   "cell_type": "code",
   "execution_count": null,
   "metadata": {
    "collapsed": true
   },
   "outputs": [],
   "source": [
    "# Write alarm list to Excel file\n",
    "\n",
    "writer = pd.ExcelWriter('%s/%s' % (DIR_WRITE, 'total_alarm_list_numbers.xlsx'))\n",
    "DataFrame([total_alarm_number_alarms]).T.to_excel(writer, 'total_alarm_list')\n",
    "writer.save()"
   ]
  },
  {
   "cell_type": "code",
   "execution_count": null,
   "metadata": {
    "collapsed": true
   },
   "outputs": [],
   "source": [
    "total_alarm_number_alarms_24H = {} # dictionary containing the number of alarm events in all recordings for the \n",
    "                                   # various alarm categories normalized for 24 hour recording periods\n",
    "for alarm in total_alarm_list:\n",
    "    total_alarm_number_alarms_24H[alarm] = round(((total_alarm_number_alarms[alarm] / \n",
    "                                                    (total_recording_time.total_seconds() / 86400))), 4)"
   ]
  },
  {
   "cell_type": "markdown",
   "metadata": {},
   "source": [
    "#### For each alarm, what was the total duration of alarm events across all recordings and normalized per 24 hour recording time"
   ]
  },
  {
   "cell_type": "code",
   "execution_count": null,
   "metadata": {
    "collapsed": true
   },
   "outputs": [],
   "source": [
    "alarm_durations_alarms = {} # a dictionary of Series. Each Series contains all durations of a particular alarm\n",
    "                            # in all recordings\n",
    "\n",
    "for alarm in total_alarm_list:\n",
    "    durations = []\n",
    "    for recording in recordings:\n",
    "        if alarm in alarm_list[recording]:\n",
    "            durations.append(alarm_events[recording][alarm]['duration_seconds'])\n",
    "    durations = pd.concat(durations)\n",
    "    alarm_durations_alarms[alarm] = durations"
   ]
  },
  {
   "cell_type": "code",
   "execution_count": null,
   "metadata": {
    "collapsed": true
   },
   "outputs": [],
   "source": [
    "cum_alarm_duration_alarms = {} # dictionary containing the total duration of alarms in all recordings for the \n",
    "                               # various alarm categories \n",
    "\n",
    "for alarm in total_alarm_list:\n",
    "    cum_alarm_duration_alarms[alarm] = round(alarm_durations_alarms[alarm].sum(), 4)"
   ]
  },
  {
   "cell_type": "code",
   "execution_count": null,
   "metadata": {
    "collapsed": true
   },
   "outputs": [],
   "source": [
    "cum_alarm_duration_alarms_24H = {} # dictionary containing the total duration of alarms in all recordings for the \n",
    "                                   # various alarm categories normalized for 24 hour recording periods\n",
    "for alarm in total_alarm_list:\n",
    "    cum_alarm_duration_alarms_24H[alarm] = round(((cum_alarm_duration_alarms[alarm] / \n",
    "                                                    (total_recording_time.total_seconds() / 86400))), 4)"
   ]
  },
  {
   "cell_type": "markdown",
   "metadata": {},
   "source": [
    "#### For each alarm what was the mean, median, sd, mad, min, 25pc, 75pc, max of alarm durations"
   ]
  },
  {
   "cell_type": "code",
   "execution_count": null,
   "metadata": {
    "collapsed": true
   },
   "outputs": [],
   "source": [
    "# libraries containing various descriptive statistics for each recording\n",
    "\n",
    "mean_alarm_duration_alarms = {}\n",
    "median_alarm_duration_alarms = {}\n",
    "sd_alarm_duration_alarms = {}\n",
    "mad_alarm_duration_alarms = {}\n",
    "min_alarm_duration_alarms = {}\n",
    "pc25_alarm_duration_alarms = {}\n",
    "pc75_alarm_duration_alarms = {}\n",
    "max_alarm_duration_alarms = {}"
   ]
  },
  {
   "cell_type": "code",
   "execution_count": null,
   "metadata": {
    "collapsed": true
   },
   "outputs": [],
   "source": [
    "for alarm in total_alarm_list:\n",
    "    mean_alarm_duration_alarms[alarm] = round(alarm_durations_alarms[alarm].mean(), 4)\n",
    "    median_alarm_duration_alarms[alarm] = round(alarm_durations_alarms[alarm].median(), 4)\n",
    "    sd_alarm_duration_alarms[alarm] = round(alarm_durations_alarms[alarm].std(), 4)\n",
    "    mad_alarm_duration_alarms[alarm] = round(alarm_durations_alarms[alarm].mad(), 4)\n",
    "    min_alarm_duration_alarms[alarm] = round(alarm_durations_alarms[alarm].min(), 4)\n",
    "    pc25_alarm_duration_alarms[alarm] = round(alarm_durations_alarms[alarm].quantile(0.25), 4)\n",
    "    pc75_alarm_duration_alarms[alarm] = round(alarm_durations_alarms[alarm].quantile(0.75), 4)\n",
    "    max_alarm_duration_alarms[alarm] = round(alarm_durations_alarms[alarm].max(), 4)"
   ]
  },
  {
   "cell_type": "code",
   "execution_count": null,
   "metadata": {
    "collapsed": true
   },
   "outputs": [],
   "source": [
    "# Create DataFrame containing cumulative alarm statistics for each alarm\n",
    "\n",
    "alarm_stats_cum_al = DataFrame([total_alarm_number_alarms, \n",
    "                                 total_alarm_number_alarms_24H,\n",
    "                                 cum_alarm_duration_alarms,\n",
    "                                 cum_alarm_duration_alarms_24H,\n",
    "                                 mean_alarm_duration_alarms,  \n",
    "                                 median_alarm_duration_alarms,\n",
    "                                 sd_alarm_duration_alarms,\n",
    "                                 mad_alarm_duration_alarms,\n",
    "                                 min_alarm_duration_alarms,\n",
    "                                 pc25_alarm_duration_alarms,\n",
    "                                 pc75_alarm_duration_alarms,\n",
    "                                 max_alarm_duration_alarms],\n",
    "    index = ['count', 'count per 24h', 'total alarm duration (sec)', 'total alarm duration per 24 hours (sec)', \n",
    "             'mean duration (sec)', 'median duration (sec)', 'sd duration (sec)', 'mad duration (sec)', \n",
    "             'min duration (sec)', '25th cent duration (sec)', '75th cent duration (sec)',\n",
    "             'max duration (sec)'])"
   ]
  },
  {
   "cell_type": "code",
   "execution_count": null,
   "metadata": {},
   "outputs": [],
   "source": [
    "# Dataframe containing cumulative alarm statistics for each alarm\n",
    "\n",
    "alarm_stats_cum_al.round(2)"
   ]
  },
  {
   "cell_type": "code",
   "execution_count": null,
   "metadata": {
    "collapsed": true
   },
   "outputs": [],
   "source": [
    "# Write Dataframe containing cumulative alarm statistics for each alarm to Excel file\n",
    "\n",
    "writer = pd.ExcelWriter('%s/%s' % (DIR_WRITE, 'alarm_stats_cum_al.xlsx'))\n",
    "alarm_stats_cum_al.round(2).to_excel(writer, 'cumulative_stats')\n",
    "writer.save()"
   ]
  },
  {
   "cell_type": "markdown",
   "metadata": {},
   "source": [
    "### Visualising cumulative statistics of alarms"
   ]
  },
  {
   "cell_type": "code",
   "execution_count": null,
   "metadata": {
    "collapsed": true
   },
   "outputs": [],
   "source": [
    "# Reduce a too long alarm name\n",
    "total_alarm_list[0] = 'A setting, alarm limit or vent...'"
   ]
  },
  {
   "cell_type": "code",
   "execution_count": null,
   "metadata": {},
   "outputs": [],
   "source": [
    "# Total number of alarm events in all recordings\n",
    "\n",
    "fig = plt.figure()\n",
    "fig.set_size_inches(17, 12)\n",
    "fig.subplots_adjust(left=0.4, bottom=None, right=None, top=None, wspace=None, hspace=0.7)\n",
    "ax1 = fig.add_subplot(1, 1, 1);\n",
    "ax1.barh(list(range(1, len(total_alarm_list)+1)), alarm_stats_cum_al.loc['count', :], color = 'blue')\n",
    "plt.ylabel(\"Alarms\", fontsize  = 22)\n",
    "plt.xlabel(\"\", fontsize  = 22)\n",
    "plt.title(\"Number of alarm events\" , fontsize = 26)\n",
    "ax1.tick_params(which = 'both', labelsize=14)\n",
    "ax1.tick_params(which = 'both', labelsize=14)\n",
    "plt.yticks([i+1.5  for i, _ in enumerate(total_alarm_list)], total_alarm_list, rotation = 'horizontal')\n",
    "plt.grid()\n",
    "\n",
    "fig.savefig('%s/%s' % (DIR_WRITE, 'number_events_al.jpg'), dpi=300, facecolor='w', edgecolor='w',\n",
    "        orientation='portrait', papertype=None, format='jpg',\n",
    "        transparent=False, bbox_inches=None, pad_inches=0.1,\n",
    "        frameon=True)"
   ]
  },
  {
   "cell_type": "code",
   "execution_count": null,
   "metadata": {
    "scrolled": false
   },
   "outputs": [],
   "source": [
    "# Total number of alarm events in all recordings normalized for 24 hour periods\n",
    "\n",
    "fig = plt.figure()\n",
    "fig.set_size_inches(17, 12)\n",
    "fig.subplots_adjust(left=0.4, bottom=None, right=None, top=None, wspace=None, hspace=0.7)\n",
    "ax1 = fig.add_subplot(1, 1, 1);\n",
    "ax1.barh(list(range(1, len(total_alarm_list)+1)), alarm_stats_cum_al.loc['count per 24h', :], color = 'blue')\n",
    "plt.ylabel(\"Alarms\", fontsize  = 22)\n",
    "plt.xlabel(\"\", fontsize  = 22)\n",
    "plt.title(\"Number of alarm events per 24 hour\" , fontsize = 26)\n",
    "ax1.tick_params(which = 'both', labelsize=14)\n",
    "plt.yticks([i+1.5  for i, _ in enumerate(total_alarm_list)], total_alarm_list, rotation = 'horizontal')\n",
    "plt.grid()\n",
    "\n",
    "fig.savefig('%s/%s' % (DIR_WRITE, 'number_events_24H_al.jpg'), dpi=300, facecolor='w', edgecolor='w',\n",
    "        orientation='portrait', papertype=None, format='jpg',\n",
    "        transparent=False, bbox_inches=None, pad_inches=0.1,\n",
    "        frameon=True)"
   ]
  },
  {
   "cell_type": "code",
   "execution_count": null,
   "metadata": {
    "scrolled": false
   },
   "outputs": [],
   "source": [
    "# Median duration of alarm events in all recordings\n",
    "\n",
    "fig = plt.figure()\n",
    "fig.set_size_inches(17, 12)\n",
    "fig.subplots_adjust(left=0.4, bottom=None, right=None, top=None, wspace=None, hspace=0.7)\n",
    "ax1 = fig.add_subplot(1, 1, 1);\n",
    "ax1.barh(list(range(1, len(total_alarm_list)+1)), alarm_stats_cum_al.loc['median duration (sec)', :], color = 'blue')\n",
    "plt.ylabel(\"Alarms\", fontsize  = 22)\n",
    "plt.xlabel(\"seconds\", fontsize  = 22)\n",
    "plt.title(\"Median duration of alarm events\" , fontsize = 26)\n",
    "ax1.tick_params(which = 'both', labelsize=14)\n",
    "plt.yticks([i+1.5  for i, _ in enumerate(total_alarm_list)], total_alarm_list,  rotation = 'horizontal')\n",
    "plt.grid()\n",
    "\n",
    "fig.savefig('%s/%s' % (DIR_WRITE, 'median_events_al.jpg'), dpi=300, facecolor='w', edgecolor='w',\n",
    "        orientation='portrait', papertype=None, format='jpg',\n",
    "        transparent=False, bbox_inches=None, pad_inches=0.1,\n",
    "        frameon=True)"
   ]
  },
  {
   "cell_type": "markdown",
   "metadata": {},
   "source": [
    "### Calculate cumulative descriptive statistics of all alarms in all recording together"
   ]
  },
  {
   "cell_type": "code",
   "execution_count": null,
   "metadata": {
    "collapsed": true
   },
   "outputs": [],
   "source": [
    "all_durations = [] # Series containing durations of all alarm events in all the recording\n",
    "for recording in recordings:\n",
    "    for alarm in alarm_list[recording]:\n",
    "        all_durations.append(alarm_events[recording][alarm]['duration_seconds'])\n",
    "all_durations = pd.concat(all_durations)"
   ]
  },
  {
   "cell_type": "code",
   "execution_count": null,
   "metadata": {},
   "outputs": [],
   "source": [
    "# The total number of alarm events in all the recordings\n",
    "\n",
    "total_count = len(all_durations)\n",
    "total_count"
   ]
  },
  {
   "cell_type": "code",
   "execution_count": null,
   "metadata": {},
   "outputs": [],
   "source": [
    "# The total number of alarm events in all the recordings per 24 hour\n",
    "\n",
    "total_count_24H = total_count / (total_recording_time.total_seconds() / 86400)\n",
    "total_count_24H"
   ]
  },
  {
   "cell_type": "code",
   "execution_count": null,
   "metadata": {
    "collapsed": true
   },
   "outputs": [],
   "source": [
    "# Calculate descriptive statistics (expressed in seconds)\n",
    "\n",
    "mean_duration_total     = round(all_durations.mean(), 4)\n",
    "median_duration_total   = round(all_durations.median(), 4)\n",
    "sd_duration_total       = round(all_durations.std(), 4)\n",
    "mad_duration_total      = round(all_durations.mad(), 4)\n",
    "min_duration_total      = round(all_durations.min(), 4)\n",
    "pc25_duration_total     = round(all_durations.quantile(0.25), 4)\n",
    "pc75_duration_total     = round(all_durations.quantile(0.75), 4)\n",
    "max_duration_total      = round(all_durations.max(), 4)"
   ]
  },
  {
   "cell_type": "code",
   "execution_count": null,
   "metadata": {
    "collapsed": true
   },
   "outputs": [],
   "source": [
    "alarm_stats_cum_total = DataFrame([ total_count, total_count_24H,\n",
    "                                    mean_duration_total, median_duration_total,\n",
    "                                    sd_duration_total, mad_duration_total, min_duration_total,      \n",
    "                                    pc25_duration_total, pc75_duration_total, max_duration_total], \n",
    "                                  \n",
    "                                  columns = ['all alarms in all recordings'],\n",
    "                                  index =  ['total alarm events', 'total alarm events per 24 hours',\n",
    "                                          'mean alarm duration (sec)', 'median alarm duration (sec)',\n",
    "                                          'sd alarm duration (sec)', 'mad alarm duration (sec)',\n",
    "                                          'min alarm duration (sec)', '25 centile alarm duration (sec)',\n",
    "                                          '75 centile alarm duration (sec)', 'max alarm duration (sec)'])"
   ]
  },
  {
   "cell_type": "code",
   "execution_count": null,
   "metadata": {},
   "outputs": [],
   "source": [
    "# Cumulative statistics of the whole datasett\n",
    "\n",
    "alarm_stats_cum_total.round(2)"
   ]
  },
  {
   "cell_type": "code",
   "execution_count": null,
   "metadata": {
    "collapsed": true
   },
   "outputs": [],
   "source": [
    "# Write cumulative statistics to Excel file\n",
    "\n",
    "writer = pd.ExcelWriter('%s/%s' % (DIR_WRITE, 'alarm_stats_cum_total.xlsx'))\n",
    "alarm_stats_cum_total.to_excel(writer, 'cumulative_stats')\n",
    "writer.save()"
   ]
  },
  {
   "cell_type": "markdown",
   "metadata": {},
   "source": [
    "### Visualise the duration of all alarm events as histogram"
   ]
  },
  {
   "cell_type": "code",
   "execution_count": null,
   "metadata": {},
   "outputs": [],
   "source": [
    "# Histogram showing the number of alarms which were shorter than 1 minute\n",
    "\n",
    "fig = plt.figure()\n",
    "fig.set_size_inches(12, 6)\n",
    "fig.subplots_adjust(left=0.4, bottom=None, right=None, top=None, wspace=None, hspace=0.7)\n",
    "ax1 = fig.add_subplot(1, 1, 1)\n",
    "n, bins, patches = plt.hist(all_durations, bins = range(0, 60))\n",
    "plt.grid(True)\n",
    "plt.xlabel('Alarm duration (seconds)', fontsize = 20)\n",
    "plt.ylabel('Number of events', fontsize = 20)\n",
    "plt.xticks(range(0,60,2), fontsize = 10)\n",
    "plt.yticks(fontsize = 10)\n",
    "plt.title('Histogram of alarm durations', fontsize = 20)\n",
    "\n",
    "fig.savefig('%s/%s' % (DIR_WRITE, 'alarm_duration_hist_1.jpg'), dpi=300, facecolor='w', edgecolor='w',\n",
    "        orientation='portrait', papertype=None, format='jpg',\n",
    "        transparent=False, bbox_inches=None, pad_inches=0.1,\n",
    "        frameon=True)"
   ]
  },
  {
   "cell_type": "code",
   "execution_count": null,
   "metadata": {},
   "outputs": [],
   "source": [
    "# Histogram showing the number of alarms which were shorter than 10 minutes\n",
    "\n",
    "fig = plt.figure()\n",
    "fig.set_size_inches(12, 6)\n",
    "fig.subplots_adjust(left=0.4, bottom=None, right=None, top=None, wspace=None, hspace=0.7)\n",
    "ax1 = fig.add_subplot(1, 1, 1)\n",
    "n, bins, patches = plt.hist(all_durations, bins = range(0, 600))\n",
    "plt.grid(True)\n",
    "plt.xlabel('Alarm duration (seconds)', fontsize = 20)\n",
    "plt.ylabel('Number of events', fontsize = 20)\n",
    "plt.xticks(range(0, 600, 60), fontsize = 10)\n",
    "plt.yticks(fontsize = 10)\n",
    "plt.title('Histogram of alarm durations', fontsize = 20)\n",
    "\n",
    "fig.savefig('%s/%s' % (DIR_WRITE, 'alarm_duration_hist_2.jpg'), dpi=300, facecolor='w', edgecolor='w',\n",
    "        orientation='portrait', papertype=None, format='jpg',\n",
    "        transparent=False, bbox_inches=None, pad_inches=0.1,\n",
    "        frameon=True)"
   ]
  },
  {
   "cell_type": "code",
   "execution_count": null,
   "metadata": {},
   "outputs": [],
   "source": [
    "# Histogram showing all data with a bin size of 1minutes and log X axis\n",
    "\n",
    "fig = plt.figure()\n",
    "fig.set_size_inches(12, 6)\n",
    "fig.subplots_adjust(left=0.4, bottom=None, right=None, top=None, wspace=None, hspace=0.7)\n",
    "ax1 = fig.add_subplot(1, 1, 1)\n",
    "n, bins, patches = plt.hist(all_durations, bins = range(0, 50000, 60))\n",
    "plt.grid(True)\n",
    "plt.xlabel('Alarm duration (seconds)', fontsize = 20)\n",
    "plt.ylabel('Number of events', fontsize = 20)\n",
    "plt.xticks(range(0, 50000, 600), fontsize = 10)\n",
    "plt.yticks(fontsize = 10)\n",
    "plt.xscale('log')\n",
    "plt.yscale('log')\n",
    "plt.title('Histogram of alarm durations', fontsize = 20)\n",
    "\n",
    "fig.savefig('%s/%s' % (DIR_WRITE, 'alarm_duration_hist_3.jpg'), dpi=300, facecolor='w', edgecolor='w',\n",
    "        orientation='portrait', papertype=None, format='jpg',\n",
    "        transparent=False, bbox_inches=None, pad_inches=0.1,\n",
    "        frameon=True)"
   ]
  },
  {
   "cell_type": "markdown",
   "metadata": {},
   "source": [
    "### How many short alarms did occur?"
   ]
  },
  {
   "cell_type": "code",
   "execution_count": null,
   "metadata": {},
   "outputs": [],
   "source": [
    "under_10_sec =  sorted([al for al in all_durations if al < 10])\n",
    "len(under_10_sec)"
   ]
  },
  {
   "cell_type": "code",
   "execution_count": null,
   "metadata": {
    "scrolled": true
   },
   "outputs": [],
   "source": [
    "under_1_min =  sorted([al for al in all_durations if al <= 60])\n",
    "len(under_1_min)"
   ]
  },
  {
   "cell_type": "code",
   "execution_count": null,
   "metadata": {
    "collapsed": true
   },
   "outputs": [],
   "source": [
    "under_10_sec_MV_low = sorted([al for al in alarm_durations_alarms['Minute volume < low limit'] if al < 10])\n",
    "under_10_sec_MV_high = sorted([al for al in alarm_durations_alarms['Minute volume > high limit'] if al < 10])\n",
    "under_10_sec_RR_high = sorted([al for al in alarm_durations_alarms['Respiratory rate > high limit'] if al < 10])"
   ]
  },
  {
   "cell_type": "code",
   "execution_count": null,
   "metadata": {
    "scrolled": true
   },
   "outputs": [],
   "source": [
    "len(under_10_sec_MV_low), len(under_10_sec_MV_high), len(under_10_sec_RR_high)"
   ]
  },
  {
   "cell_type": "code",
   "execution_count": null,
   "metadata": {},
   "outputs": [],
   "source": [
    "# Short alarms (<10 sec) in the categories where the user sets the limits\n",
    "\n",
    "len(under_10_sec_MV_low) + len(under_10_sec_MV_high) + len(under_10_sec_RR_high)"
   ]
  },
  {
   "cell_type": "markdown",
   "metadata": {},
   "source": [
    "### Check which are the longest alarms"
   ]
  },
  {
   "cell_type": "code",
   "execution_count": null,
   "metadata": {},
   "outputs": [],
   "source": [
    "# How many alarm events are longer than 1 hour?\n",
    "\n",
    "over_1_hour =  sorted([al for al in all_durations if al > 3600]) \n",
    "len(over_1_hour)"
   ]
  },
  {
   "cell_type": "code",
   "execution_count": null,
   "metadata": {
    "collapsed": true,
    "scrolled": false
   },
   "outputs": [],
   "source": [
    "# Which alarms were longer than one hour?\n",
    "\n",
    "alarms_over_1_hour = []\n",
    "for recording in recordings:\n",
    "    for alarm in alarm_list[recording]:\n",
    "        for event in alarm_events[recording][alarm]['duration_seconds']:\n",
    "            if event > 3600:\n",
    "                alarms_over_1_hour.append((recording, alarm, event))\n",
    "\n",
    "alarms_over_1_hour = DataFrame(sorted(alarms_over_1_hour, key = lambda x: x[2], reverse = True), \n",
    "                               columns = ['recording', 'alarm', 'duration (seconds)'])"
   ]
  },
  {
   "cell_type": "code",
   "execution_count": null,
   "metadata": {
    "scrolled": false
   },
   "outputs": [],
   "source": [
    "alarms_over_1_hour"
   ]
  },
  {
   "cell_type": "code",
   "execution_count": null,
   "metadata": {},
   "outputs": [],
   "source": [
    "alarms_over_1_hour.groupby('alarm').count()"
   ]
  },
  {
   "cell_type": "markdown",
   "metadata": {},
   "source": [
    "##### How many alarm events are longer than 10 minutes but shorter than 1 hour?¶"
   ]
  },
  {
   "cell_type": "code",
   "execution_count": null,
   "metadata": {},
   "outputs": [],
   "source": [
    "over_10_minutes =  sorted([al for al in all_durations if al > 600 and al <= 3600])\n",
    "len(over_10_minutes)"
   ]
  },
  {
   "cell_type": "code",
   "execution_count": null,
   "metadata": {
    "collapsed": true
   },
   "outputs": [],
   "source": [
    "alarms_over_10_min = []\n",
    "# which alarms were longer than 10 minutes but shorter than 1 hour\n",
    "for recording in recordings:\n",
    "    for alarm in alarm_list[recording]:\n",
    "        for event in alarm_events[recording][alarm]['duration_seconds']:\n",
    "            if event > 600 and event <= 3600:\n",
    "                alarms_over_10_min.append((recording, alarm, event))"
   ]
  },
  {
   "cell_type": "code",
   "execution_count": null,
   "metadata": {
    "collapsed": true
   },
   "outputs": [],
   "source": [
    "alarms_over_10_min = DataFrame(sorted(alarms_over_10_min, key = lambda x: x[2], reverse = True), \n",
    "                               columns = ['recording', 'alarm', 'duration (seconds)'])"
   ]
  },
  {
   "cell_type": "code",
   "execution_count": null,
   "metadata": {},
   "outputs": [],
   "source": [
    "alarms_over_10_min.groupby('alarm').count()"
   ]
  },
  {
   "cell_type": "markdown",
   "metadata": {
    "collapsed": true
   },
   "source": [
    "#### how many alarm events are longer than 1 minutes?¶"
   ]
  },
  {
   "cell_type": "code",
   "execution_count": null,
   "metadata": {},
   "outputs": [],
   "source": [
    "over_1_minutes =  sorted([al for al in all_durations if al > 60 and al <= 600])\n",
    "len(over_1_minutes)"
   ]
  },
  {
   "cell_type": "code",
   "execution_count": null,
   "metadata": {
    "collapsed": true
   },
   "outputs": [],
   "source": [
    "alarms_over_1_min = []\n",
    "# which alarms were longer than 1 minutes but shorter than 10 minutes\n",
    "for recording in recordings:\n",
    "    for alarm in alarm_list[recording]:\n",
    "        for event in alarm_events[recording][alarm]['duration_seconds']:\n",
    "            if event > 60 and event <= 600:\n",
    "                alarms_over_1_min.append((recording, alarm, event))\n",
    "                \n",
    "alarms_over_1_min = DataFrame(sorted(alarms_over_1_min, key = lambda x: x[2], reverse = True), \n",
    "                               columns = ['recording', 'alarm', 'duration (seconds)'])"
   ]
  },
  {
   "cell_type": "code",
   "execution_count": null,
   "metadata": {},
   "outputs": [],
   "source": [
    "alarms_over_1_min.groupby('alarm').count()"
   ]
  },
  {
   "cell_type": "code",
   "execution_count": null,
   "metadata": {
    "collapsed": true
   },
   "outputs": [],
   "source": [
    "# Write long alarms into a multisheet Excel file\n",
    "\n",
    "writer = pd.ExcelWriter('%s/%s' % (DIR_WRITE, 'long_alarms.xlsx'))\n",
    "alarms_over_1_hour.to_excel(writer, 'over_1hour')\n",
    "alarms_over_10_min.to_excel(writer, '10min_to_1hour')\n",
    "alarms_over_1_min.to_excel(writer, '1min_to_10min')\n",
    "writer.save()"
   ]
  },
  {
   "cell_type": "markdown",
   "metadata": {},
   "source": [
    "### Check which are the most frequent alarms"
   ]
  },
  {
   "cell_type": "code",
   "execution_count": null,
   "metadata": {
    "collapsed": true,
    "scrolled": false
   },
   "outputs": [],
   "source": [
    "# Identify the most frequent alarm events\n",
    "\n",
    "frequent_alarms = alarm_stats_cum_al.loc['count'].sort_values(inplace = False, ascending = False)"
   ]
  },
  {
   "cell_type": "code",
   "execution_count": null,
   "metadata": {},
   "outputs": [],
   "source": [
    "# The eight most frequent alarms\n",
    "\n",
    "frequent_alarms[:8]"
   ]
  },
  {
   "cell_type": "code",
   "execution_count": null,
   "metadata": {},
   "outputs": [],
   "source": [
    "# How many percent of all alarms were these 8 frequent alarms?\n",
    "\n",
    "round(frequent_alarms[:8].sum() / frequent_alarms.sum(), 3) * 100"
   ]
  },
  {
   "cell_type": "code",
   "execution_count": null,
   "metadata": {
    "collapsed": true
   },
   "outputs": [],
   "source": [
    "# Write frequent alarm in an Excel file\n",
    "\n",
    "writer = pd.ExcelWriter('%s/%s' % (DIR_WRITE, 'frequent_alarms.xlsx'))\n",
    "DataFrame(frequent_alarms[:8]).to_excel(writer, 'frequent_alarms')\n",
    "writer.save()"
   ]
  },
  {
   "cell_type": "code",
   "execution_count": null,
   "metadata": {},
   "outputs": [],
   "source": [
    "# Number of alarms where the user sets the limits\n",
    "\n",
    "user_set_alarms = (frequent_alarms['Minute volume < low limit'] + frequent_alarms['Minute volume > high limit'] + \n",
    "                frequent_alarms['Respiratory rate > high limit'])\n",
    "\n",
    "int(user_set_alarms)"
   ]
  },
  {
   "cell_type": "code",
   "execution_count": null,
   "metadata": {},
   "outputs": [],
   "source": [
    "# What proportion of all alarms were these 3 user-set alarms?\n",
    "\n",
    "print('%.3f' % (user_set_alarms / frequent_alarms.sum()))"
   ]
  },
  {
   "cell_type": "code",
   "execution_count": null,
   "metadata": {},
   "outputs": [],
   "source": [
    "# Frequent alarms related to VT not achieved\n",
    "\n",
    "other_frequent_alarms = (frequent_alarms['Tidal volume < low Limit'] + frequent_alarms['Volume not constant'] + \n",
    "                frequent_alarms['Tube obstructed'])\n",
    "\n",
    "int(other_frequent_alarms)"
   ]
  },
  {
   "cell_type": "code",
   "execution_count": null,
   "metadata": {},
   "outputs": [],
   "source": [
    "# What proportion of all alarms were alarms related to VT not achieved?\n",
    "\n",
    "print('%.3f' % (other_frequent_alarms / frequent_alarms.sum()))"
   ]
  },
  {
   "cell_type": "markdown",
   "metadata": {},
   "source": [
    "### Visualise MV and RR limit alarms"
   ]
  },
  {
   "cell_type": "markdown",
   "metadata": {
    "collapsed": true
   },
   "source": [
    "#### Generate dictionaries with the alarm counts (absolute and per 24H recording period) for MV low and high alarms and RR high alarms for those recordings where this occurs"
   ]
  },
  {
   "cell_type": "code",
   "execution_count": null,
   "metadata": {
    "collapsed": true,
    "scrolled": false
   },
   "outputs": [],
   "source": [
    "MV_low_count = {}\n",
    "for recording in recordings:\n",
    "    try:\n",
    "        MV_low_count[recording] = alarm_stats[recording]['Minute volume < low limit']['number of events'].iloc[0]\n",
    "    except KeyError:\n",
    "        # print('No \"MV_low\" alarm in recording %s' % recording)\n",
    "        pass"
   ]
  },
  {
   "cell_type": "code",
   "execution_count": null,
   "metadata": {
    "collapsed": true,
    "scrolled": false
   },
   "outputs": [],
   "source": [
    "MV_low_count_24H = {}\n",
    "for recording in recordings:\n",
    "    try:\n",
    "        MV_low_count_24H[recording] = \\\n",
    "            alarm_stats[recording]['Minute volume < low limit']['number of event per 24h'].iloc[0]\n",
    "    except KeyError:\n",
    "        # print('No \"MV_low\" alarm in recording %s' % recording)\n",
    "        pass"
   ]
  },
  {
   "cell_type": "code",
   "execution_count": null,
   "metadata": {
    "collapsed": true,
    "scrolled": false
   },
   "outputs": [],
   "source": [
    "MV_high_count = {}\n",
    "for recording in recordings:\n",
    "    try:\n",
    "        MV_high_count[recording] = alarm_stats[recording]['Minute volume > high limit']['number of events'].iloc[0]\n",
    "    except KeyError:\n",
    "        # print('No \"MV_high\" alarm in recording %s' % recording)\n",
    "        pass"
   ]
  },
  {
   "cell_type": "code",
   "execution_count": null,
   "metadata": {
    "collapsed": true,
    "scrolled": false
   },
   "outputs": [],
   "source": [
    "MV_high_count_24H = {}\n",
    "for recording in recordings:\n",
    "    try:\n",
    "        MV_high_count_24H[recording] = alarm_stats[recording]['Minute volume > high limit']['number of event per 24h'].iloc[0]\n",
    "    except KeyError:\n",
    "        # print('No \"MV_high\" alarm in recording %s' % recording)\n",
    "        pass"
   ]
  },
  {
   "cell_type": "code",
   "execution_count": null,
   "metadata": {
    "collapsed": true,
    "scrolled": false
   },
   "outputs": [],
   "source": [
    "RR_high_count = {}\n",
    "for recording in recordings:\n",
    "    try:\n",
    "        RR_high_count[recording] = alarm_stats[recording]['Respiratory rate > high limit']['number of events'].iloc[0]\n",
    "    except KeyError:\n",
    "        # print('No \"RR_high\" alarm in recording %s' % recording)\n",
    "        pass"
   ]
  },
  {
   "cell_type": "code",
   "execution_count": null,
   "metadata": {
    "collapsed": true,
    "scrolled": false
   },
   "outputs": [],
   "source": [
    "RR_high_count_24H = {}\n",
    "for recording in recordings:\n",
    "    try:\n",
    "        RR_high_count_24H[recording] = alarm_stats[recording]['Respiratory rate > high limit']['number of event per 24h'].iloc[0]\n",
    "    except KeyError:\n",
    "        # print('No \"RR_high\" alarm in recording %s' % recording)\n",
    "        pass"
   ]
  },
  {
   "cell_type": "code",
   "execution_count": null,
   "metadata": {},
   "outputs": [],
   "source": [
    "# Plot the number of MV < low limit alarm events and write graph to file\n",
    "\n",
    "fig = plt.figure()\n",
    "fig.set_size_inches(17, 12)\n",
    "fig.subplots_adjust(left=None, bottom=None, right=None, top=None, wspace=None, hspace=0.7)\n",
    "ax1 = fig.add_subplot(1, 1, 1);\n",
    "ax1.barh(list(range(1, len(MV_low_count)+1)), MV_low_count.values(), color = 'blue')\n",
    "plt.ylabel(\"Recordings\", fontsize  = 16)\n",
    "plt.xlabel(\"number of alarm events\", fontsize  = 16)\n",
    "plt.title(\"MV < low limit\" , fontsize = 26)\n",
    "ax1.tick_params(which = 'both', labelsize=14)\n",
    "plt.yticks([i+1.5  for i, _ in enumerate(MV_low_count.keys())], MV_low_count.keys(),\n",
    "        rotation = 'horizontal')\n",
    "plt.grid()\n",
    "\n",
    "fig.savefig('%s/%s' % (DIR_WRITE, 'MV_low.jpg'), dpi=300, facecolor='w', edgecolor='w',\n",
    "        orientation='portrait', papertype=None, format='jpg',\n",
    "        transparent=False, bbox_inches=None, pad_inches=0.1,\n",
    "        frameon=True)"
   ]
  },
  {
   "cell_type": "code",
   "execution_count": null,
   "metadata": {},
   "outputs": [],
   "source": [
    "# Plot the number of MV < low limit alarm events normalized for 24 hours and write graph to file\n",
    "\n",
    "fig = plt.figure()\n",
    "fig.set_size_inches(17, 12)\n",
    "fig.subplots_adjust(left=None, bottom=None, right=None, top=None, wspace=None, hspace=0.7)\n",
    "ax1 = fig.add_subplot(1, 1, 1);\n",
    "ax1.barh(list(range(1, len(MV_low_count_24H)+1)), MV_low_count_24H.values(), color = 'blue')\n",
    "plt.ylabel(\"Recordings\", fontsize  = 16)\n",
    "plt.xlabel(\"number of alarm events per 24 hours\", fontsize  = 16)\n",
    "plt.title(\"MV < low limit\" , fontsize = 26)\n",
    "ax1.tick_params(which = 'both', labelsize=14)\n",
    "plt.yticks([i+1.5  for i, _ in enumerate(MV_low_count_24H.keys())], MV_low_count_24H.keys(),\n",
    "        rotation = 'horizontal')\n",
    "plt.grid()\n",
    "\n",
    "fig.savefig('%s/%s' % (DIR_WRITE, 'MV_low_24H.jpg'), dpi=300, facecolor='w', edgecolor='w',\n",
    "        orientation='portrait', papertype=None, format='jpg',\n",
    "        transparent=False, bbox_inches=None, pad_inches=0.1,\n",
    "        frameon=True)"
   ]
  },
  {
   "cell_type": "code",
   "execution_count": null,
   "metadata": {},
   "outputs": [],
   "source": [
    "# Plot the number of MV > low limit alarm events and write graph to file\n",
    "\n",
    "fig = plt.figure()\n",
    "fig.set_size_inches(17, 12)\n",
    "fig.subplots_adjust(left=None, bottom=None, right=None, top=None, wspace=None, hspace=0.7)\n",
    "ax1 = fig.add_subplot(1, 1, 1);\n",
    "ax1.barh(list(range(1, len(MV_high_count)+1)), MV_high_count.values(), color = 'blue')\n",
    "plt.ylabel(\"Recordings\", fontsize  = 16)\n",
    "plt.xlabel(\"number of alarm events\", fontsize  = 16)\n",
    "plt.title(\"MV > high limit\" , fontsize = 26)\n",
    "ax1.tick_params(which = 'both', labelsize=14)\n",
    "plt.yticks([i+1.5  for i, _ in enumerate(MV_high_count.keys())], MV_high_count.keys(),\n",
    "           rotation = 'horizontal')\n",
    "plt.grid()\n",
    "\n",
    "fig.savefig('%s/%s' % (DIR_WRITE, 'MV_high.jpg'), dpi=300, facecolor='w', edgecolor='w',\n",
    "        orientation='portrait', papertype=None, format='jpg',\n",
    "        transparent=False, bbox_inches=None, pad_inches=0.1,\n",
    "        frameon=True)"
   ]
  },
  {
   "cell_type": "code",
   "execution_count": null,
   "metadata": {},
   "outputs": [],
   "source": [
    "# Plot the number of MV > low limit alarm events and write graph to file\n",
    "\n",
    "fig = plt.figure()\n",
    "fig.set_size_inches(17, 12)\n",
    "fig.subplots_adjust(left=None, bottom=None, right=None, top=None, wspace=None, hspace=0.7)\n",
    "ax1 = fig.add_subplot(1, 1, 1);\n",
    "ax1.barh(list(range(1, len(MV_high_count_24H)+1)), MV_high_count_24H.values(), color = 'blue')\n",
    "plt.ylabel(\"Recordings\", fontsize  = 16)\n",
    "plt.xlabel(\"number of alarm events per 24 hours\", fontsize  = 16)\n",
    "plt.title(\"MV > high limit\" , fontsize = 26)\n",
    "ax1.tick_params(which = 'both', labelsize=14)\n",
    "plt.yticks([i+1.5  for i, _ in enumerate(MV_high_count_24H.keys())], MV_high_count_24H.keys(),\n",
    "           rotation = 'horizontal')\n",
    "plt.grid()\n",
    "\n",
    "fig.savefig('%s/%s' % (DIR_WRITE, 'MV_high_24H.jpg'), dpi=300, facecolor='w', edgecolor='w',\n",
    "        orientation='portrait', papertype=None, format='jpg',\n",
    "        transparent=False, bbox_inches=None, pad_inches=0.1,\n",
    "        frameon=True)"
   ]
  },
  {
   "cell_type": "code",
   "execution_count": null,
   "metadata": {
    "scrolled": false
   },
   "outputs": [],
   "source": [
    "# Plot the number of RR > high limit alarm events and write graph to file\n",
    "\n",
    "fig = plt.figure()\n",
    "fig.set_size_inches(17, 12)\n",
    "fig.subplots_adjust(left=None, bottom=None, right=None, top=None, wspace=None, hspace=0.7)\n",
    "ax1 = fig.add_subplot(1, 1, 1);\n",
    "ax1.barh(list(range(1, len(RR_high_count)+1)), RR_high_count.values(), color = 'blue')\n",
    "plt.ylabel(\"Recordings\", fontsize  = 16)\n",
    "plt.xlabel(\"number of alarm events\", fontsize  = 16)\n",
    "plt.title(\"RR > high limit\" , fontsize = 26)\n",
    "ax1.tick_params(which = 'both', labelsize=14)\n",
    "plt.yticks([i+1.5  for i, _ in enumerate(RR_high_count.keys())], RR_high_count.keys(),\n",
    "           rotation = 'horizontal')\n",
    "plt.grid()\n",
    "\n",
    "fig.savefig('%s/%s' % (DIR_WRITE, 'RR_high.jpg'), dpi=300, facecolor='w', edgecolor='w',\n",
    "        orientation='portrait', papertype=None, format='jpg',\n",
    "        transparent=False, bbox_inches=None, pad_inches=0.1,\n",
    "        frameon=True)"
   ]
  },
  {
   "cell_type": "code",
   "execution_count": null,
   "metadata": {},
   "outputs": [],
   "source": [
    "# Plot the number of RR > high limit alarm events normalized for 24 hours and write graph to file\n",
    "\n",
    "fig = plt.figure()\n",
    "fig.set_size_inches(17, 12)\n",
    "fig.subplots_adjust(left=None, bottom=None, right=None, top=None, wspace=None, hspace=0.7)\n",
    "ax1 = fig.add_subplot(1, 1, 1);\n",
    "ax1.barh(list(range(1, len(RR_high_count_24H)+1)), RR_high_count_24H.values(), color = 'blue')\n",
    "plt.ylabel(\"Recordings\", fontsize  = 16)\n",
    "plt.xlabel(\"number of alarm events per 24 hours\", fontsize  = 16)\n",
    "plt.title(\"RR > high limit\" , fontsize = 26)\n",
    "ax1.tick_params(which = 'both', labelsize=14)\n",
    "plt.yticks([i+1.5  for i, _ in enumerate(RR_high_count_24H.keys())], \n",
    "           RR_high_count_24H.keys(), rotation = 'horizontal')\n",
    "plt.grid()\n",
    "\n",
    "fig.savefig('%s/%s' % (DIR_WRITE, 'RR_high_24H.jpg'), dpi=300, facecolor='w', edgecolor='w',\n",
    "        orientation='portrait', papertype=None, format='jpg',\n",
    "        transparent=False, bbox_inches=None, pad_inches=0.1,\n",
    "        frameon=True)"
   ]
  },
  {
   "cell_type": "markdown",
   "metadata": {},
   "source": [
    "### Investigate the relationship of MV and RR parameter readings, ventilation settings and alarm settings"
   ]
  },
  {
   "cell_type": "code",
   "execution_count": null,
   "metadata": {
    "collapsed": true
   },
   "outputs": [],
   "source": [
    "for recording in recordings:\n",
    "    slow_measurements[recording] = pd.concat([slow_measurements[recording],\n",
    "            vent_settings_2[recording], alarm_settings_2[recording]], axis = 0, join = 'outer')\n",
    "    slow_measurements[recording].sort_index(inplace = True)"
   ]
  },
  {
   "cell_type": "code",
   "execution_count": null,
   "metadata": {
    "collapsed": true
   },
   "outputs": [],
   "source": [
    "for recording in recordings:\n",
    "    slow_measurements[recording] = slow_measurements[recording].fillna(method = 'pad')"
   ]
  },
  {
   "cell_type": "code",
   "execution_count": null,
   "metadata": {
    "collapsed": true
   },
   "outputs": [],
   "source": [
    "def minute_volume_plotter(rec, ylim = False):\n",
    "    '''\n",
    "    Plots the total minute volumme (using the data obtained with 1/sec sampling rate) \n",
    "    together with the \"MV low\" and \"MV high\" alarm limits\n",
    "    Displays the plot\n",
    "    \n",
    "    '''\n",
    "    if ylim:\n",
    "        ymax =  ylim\n",
    "    else:\n",
    "        ymax = slow_measurements[rec]['MV_high_weight'].max() + 0.3\n",
    "    \n",
    "    fig = plt.figure()\n",
    "    fig.set_size_inches(12, 8)\n",
    "    fig.subplots_adjust(left=None, bottom=None, right=None, top=None,\n",
    "    wspace=None, hspace=0.7)\n",
    "    ax1 = fig.add_subplot(1, 1, 1);\n",
    "    slow_measurements[rec]['MV_kg'].plot(ax = ax1, color = 'blue', ylim = [0, ymax] );\n",
    "    slow_measurements[rec]['MV_low_weight'].plot(ax = ax1, color = 'green', linewidth = 3, ylim = [0, ymax] );\n",
    "    slow_measurements[rec]['MV_high_weight'].plot(ax = ax1, color = 'red', linewidth = 3, ylim = [0, ymax] );\n",
    "    ax1.set_title('Minute volume - %s' % rec, size = 22, color = 'black')\n",
    "    ax1.set_xlabel('Time', size = 22, color = 'black')\n",
    "    ax1.set_ylabel('L/kg/min', size = 22, color = 'black')\n",
    "    ax1.grid('on', linestyle='-', linewidth=0.5, color = 'gray')\n",
    "    ax1.legend(['MV_kg', 'alarm_low', 'alarm_high']);"
   ]
  },
  {
   "cell_type": "code",
   "execution_count": null,
   "metadata": {},
   "outputs": [],
   "source": [
    "minute_volume_plotter('DG003')"
   ]
  },
  {
   "cell_type": "code",
   "execution_count": null,
   "metadata": {
    "collapsed": true
   },
   "outputs": [],
   "source": [
    "def minute_volume_plotter_2(rec, ylim = False, version = ''):\n",
    "    '''\n",
    "    Plots the total minute volumme (using the data obtained with 1/sec sampling rate) \n",
    "    together with the \"MV low\" and \"MV high\" alarm limits\n",
    "    Writes the plot to file (does not display the plot)\n",
    "    \n",
    "    '''\n",
    "    if ylim:\n",
    "        ymax =  ylim\n",
    "    else:\n",
    "        ymax = slow_measurements[rec]['alarm_MV_high_weight'].max() + 0.3\n",
    "    \n",
    "    fig = plt.figure()\n",
    "    fig.set_size_inches(12, 8)\n",
    "    fig.subplots_adjust(left=None, bottom=None, right=None, top=None,\n",
    "    wspace=None, hspace=0.7)\n",
    "    ax1 = fig.add_subplot(1, 1, 1);\n",
    "    slow_measurements[rec]['MV_kg'].plot(ax = ax1, color = 'blue', ylim = [0, ymax] );\n",
    "    slow_measurements[rec]['alarm_MV_low_weight'].plot(ax = ax1, color = 'green', linewidth = 3, ylim = [0, ymax] );\n",
    "    slow_measurements[rec]['alarm_MV_high_weight'].plot(ax = ax1, color = 'red', linewidth = 3,  ylim = [0, ymax] );\n",
    "    ax1.set_title('Minute volume - %s' % rec, size = 22, color = 'black')\n",
    "    ax1.set_xlabel('Time', size = 22, color = 'black')\n",
    "    ax1.set_ylabel('L/kg/min', size = 22, color = 'black')\n",
    "    ax1.grid('on', linestyle='-', linewidth=0.5, color = 'gray')\n",
    "    ax1.legend(['MV_kg', 'alarm_low', 'alarm_high']);\n",
    "\n",
    "    fig.savefig('%s/%s_%s%s.jpg' % (dir_write, 'minute_volume', rec, version), dpi=300, facecolor='w', edgecolor='w',\n",
    "        orientation='portrait', papertype=None, format='jpg',\n",
    "        transparent=False, bbox_inches=None, pad_inches=0.1,\n",
    "        frameon=True)\n",
    "    plt.close(fig)"
   ]
  },
  {
   "cell_type": "raw",
   "metadata": {},
   "source": [
    "# Writing all minute volume plots to image files\n",
    "\n",
    "for recording in recordings:\n",
    "    minute_volume_plotter_2(recording)"
   ]
  },
  {
   "cell_type": "code",
   "execution_count": null,
   "metadata": {
    "collapsed": true
   },
   "outputs": [],
   "source": [
    "def resp_rate_plotter(rec, ylim = False):\n",
    "    '''\n",
    "    Plots the total reapiratory rate (using the data obtained with 1/sec sampling rate) \n",
    "    together with the set backup rate and \"RR high\" alarm limits\n",
    "    Displays the plot\n",
    "    \n",
    "    '''\n",
    "    if ylim:\n",
    "        ymax =  ylim\n",
    "    else:\n",
    "        ymax = slow_measurements[rec]['5001|RR [1/min]'].max() + 10\n",
    "    \n",
    "    fig = plt.figure()\n",
    "    fig.set_size_inches(12, 8)\n",
    "    fig.subplots_adjust(left=None, bottom=None, right=None, top=None,\n",
    "    wspace=None, hspace=0.7)\n",
    "    ax1 = fig.add_subplot(1, 1, 1);\n",
    "    slow_measurements[rec]['5001|RR [1/min]'].plot(ax = ax1, color = 'blue', ylim = [0, ymax] );\n",
    "    slow_measurements[rec]['RR_high'].plot(ax = ax1, color = 'red', linewidth = 3, ylim = [0, ymax] );\n",
    "    slow_measurements[rec]['RR_set'].plot(ax = ax1, color = 'green', linewidth = 3, ylim = [0, ymax] );\n",
    "    ax1.set_title('Respiratory rate - %s' % rec, size = 22, color = 'black')\n",
    "    ax1.set_xlabel('Time', size = 22, color = 'black')\n",
    "    ax1.set_ylabel('1/min', size = 22, color = 'black')\n",
    "    ax1.grid('on', linestyle='-', linewidth=0.5, color = 'gray')\n",
    "    ax1.legend(['RR', 'alarm_high', 'RR_set']);"
   ]
  },
  {
   "cell_type": "code",
   "execution_count": null,
   "metadata": {},
   "outputs": [],
   "source": [
    "resp_rate_plotter('DG003')"
   ]
  },
  {
   "cell_type": "code",
   "execution_count": null,
   "metadata": {
    "collapsed": true
   },
   "outputs": [],
   "source": [
    "def resp_rate_plotter_2(rec, ylim = False, version = ''):\n",
    "    '''\n",
    "    Plots the total reapiratory rate (using the data obtained with 1/sec sampling rate) \n",
    "    together with the set backup rate and \"RR high\" alarm limits\n",
    "    Writes the plots to files (does not display the plot)\n",
    "    \n",
    "    '''\n",
    "    if ylim:\n",
    "        ymax =  ylim\n",
    "    else:\n",
    "        ymax = slow_measurements[rec]['5001|RR [1/min]'].max() + 10\n",
    "    \n",
    "    fig = plt.figure()\n",
    "    fig.set_size_inches(12, 8)\n",
    "    fig.subplots_adjust(left=None, bottom=None, right=None, top=None,\n",
    "    wspace=None, hspace=0.7)\n",
    "    ax1 = fig.add_subplot(1, 1, 1);\n",
    "    slow_measurements[rec]['5001|RR [1/min]'].plot(ax = ax1, color = 'blue', ylim = [0, ymax] );\n",
    "    slow_measurements[rec]['alarm_RR_high'].plot(ax = ax1, color = 'red', linewidth = 3, ylim = [0, ymax] );\n",
    "    slow_measurements[rec]['RR_set'].plot(ax = ax1, color = 'green', linewidth = 3, ylim = [0, ymax] );\n",
    "    ax1.set_title('Respiratory rate - %s' % rec, size = 22, color = 'black')\n",
    "    ax1.set_xlabel('Time', size = 22, color = 'black')\n",
    "    ax1.set_ylabel('1/min', size = 22, color = 'black')\n",
    "    ax1.grid('on', linestyle='-', linewidth=0.5, color = 'gray')\n",
    "    ax1.legend(['RR', 'alarm_high', 'RR_set'])\n",
    "    \n",
    "    fig.savefig('%s/%s_%s%s.jpg' % (dir_write, 'resp_rate', rec, version), dpi=300, facecolor='w', edgecolor='w',\n",
    "        orientation='portrait', papertype=None, format='jpg',\n",
    "        transparent=False, bbox_inches=None, pad_inches=0.1,\n",
    "        frameon=True)\n",
    "    plt.close(fig)"
   ]
  },
  {
   "cell_type": "raw",
   "metadata": {},
   "source": [
    "# Writing all respiratory rate plots to image files\n",
    "\n",
    "for recording in recordings:\n",
    "    resp_rate_plotter_2(recording)"
   ]
  },
  {
   "cell_type": "markdown",
   "metadata": {
    "collapsed": true
   },
   "source": [
    "## Create the tables and figures of the paper"
   ]
  },
  {
   "cell_type": "markdown",
   "metadata": {},
   "source": [
    "### Table 1"
   ]
  },
  {
   "cell_type": "code",
   "execution_count": null,
   "metadata": {
    "collapsed": true,
    "scrolled": false
   },
   "outputs": [],
   "source": [
    "clinical_details_for_paper = clinical_details[['Gestation', 'Birth weight', 'Current weight', 'Main diagnoses']]\n",
    "clinical_details_for_paper = clinical_details_for_paper.loc[recordings]\n",
    "# clinical_details_for_paper"
   ]
  },
  {
   "cell_type": "code",
   "execution_count": null,
   "metadata": {
    "collapsed": true
   },
   "outputs": [],
   "source": [
    "vent_modes_all = {}\n",
    "for recording in recordings:\n",
    "    vent_modes_all[recording] = vent_modes_selected[recording].Text.unique()\n",
    "    vent_modes_all[recording] = [mode[5:] for mode in vent_modes_all[recording] if mode.startswith(' Mode')]\n",
    "    \n",
    "vent_modes_all = DataFrame([vent_modes_all]).T\n",
    "vent_modes_all.columns = ['Ventilation modes']\n",
    "vent_modes_all = vent_modes_all.loc[recordings]\n",
    "# vent_modes_all"
   ]
  },
  {
   "cell_type": "code",
   "execution_count": null,
   "metadata": {
    "collapsed": true
   },
   "outputs": [],
   "source": [
    "recording_duration_hours_all = DataFrame([recording_duration_hours]).T\n",
    "recording_duration_hours_all.columns = ['Recording duration (hours)']"
   ]
  },
  {
   "cell_type": "code",
   "execution_count": null,
   "metadata": {
    "collapsed": true
   },
   "outputs": [],
   "source": [
    "Table_1 = recording_duration_hours_all.join([clinical_details_for_paper, vent_modes_all])"
   ]
  },
  {
   "cell_type": "code",
   "execution_count": null,
   "metadata": {},
   "outputs": [],
   "source": [
    "Table_1"
   ]
  },
  {
   "cell_type": "code",
   "execution_count": null,
   "metadata": {
    "collapsed": true
   },
   "outputs": [],
   "source": [
    "writer = pd.ExcelWriter('%s/%s' % (DIR_WRITE, 'Table_1.xlsx'))\n",
    "Table_1.to_excel(writer)\n",
    "writer.save()"
   ]
  },
  {
   "cell_type": "markdown",
   "metadata": {},
   "source": [
    "### Figure 1"
   ]
  },
  {
   "cell_type": "code",
   "execution_count": null,
   "metadata": {
    "scrolled": true
   },
   "outputs": [],
   "source": [
    "rec = 'DG032_2'\n",
    "filetype = 'jpg'\n",
    "dpi = 300\n",
    "\n",
    "alarm_state = alarm_states[rec]\n",
    "numbered = Series(np.zeros(len(alarm_state)), index = alarm_state.index)\n",
    "for i in range(1, len(alarm_state)):\n",
    "    if alarm_state.iloc[i]['State New'] == 'Active':\n",
    "        numbered[i] = alarm_list[rec].index(alarm_state.iloc[i]['Id']) + 1\n",
    "    \n",
    "fig = plt.figure()\n",
    "fig.set_size_inches(10, 4)\n",
    "fig.subplots_adjust(left=0.4, bottom=None, right=None, top=None, wspace=None, hspace=None)\n",
    "\n",
    "ax1 = fig.add_subplot(1, 1, 1);\n",
    "ax1.plot(alarm_state.index,  numbered, '|', color = 'red', markersize = 14, markeredgewidth = 0.5 )\n",
    "plt.xlabel(\"Time\", fontsize  = 14)\n",
    "plt.title(rec)\n",
    "plt.yticks([i+1  for i, _ in enumerate(alarm_list[rec])], alarm_list[rec], fontsize = 14);\n",
    "plt.xticks(fontsize = 8)\n",
    "                                                     \n",
    "plt.ylim(0.5, len(alarm_list[rec]) + 0.5)\n",
    "    \n",
    "fig.savefig('%s/%s.jpg' % (DIR_WRITE, 'Figure_1a'), dpi=dpi, facecolor='w', edgecolor='w',\n",
    "        orientation='portrait', papertype=None, format= filetype,\n",
    "        transparent=False, bbox_inches=None, pad_inches=0.1, frameon=True)"
   ]
  },
  {
   "cell_type": "code",
   "execution_count": null,
   "metadata": {
    "scrolled": true
   },
   "outputs": [],
   "source": [
    "rec = 'DG032_2'\n",
    "filetype = 'jpg'\n",
    "dpi = 300\n",
    "\n",
    "fig = plt.figure()\n",
    "fig.set_size_inches(8, 4)\n",
    "fig.subplots_adjust(left=0.5, bottom=None, right=None, top=None, wspace=None, hspace= None)\n",
    "ax1 = fig.add_subplot(1, 1, 1)\n",
    "xs = [i + 0.1 for i, _ in enumerate(alarm_list[rec])]\n",
    "stats = []\n",
    "for alarm in alarm_list[rec]:\n",
    "    stats.append(alarm_stats[rec][alarm]['percentage of recording length (%)'])\n",
    "stats_all = pd.concat(stats)\n",
    "plt.barh(xs, stats_all, color = 'red')\n",
    "plt.xlabel(\"% of total recording time\", fontsize  = 14)\n",
    "plt.title(rec)\n",
    "plt.yticks([i + 0.5 for i, _ in enumerate(alarm_list[rec])], alarm_list[rec], fontsize = 14)\n",
    "plt.xticks(fontsize = 14);\n",
    "    \n",
    "fig.savefig('%s/%s.jpg' % (DIR_WRITE, 'Figure_1b'), dpi=dpi, facecolor='w', edgecolor='w',\n",
    "        orientation='portrait', papertype=None, format= filetype,\n",
    "        transparent=False, bbox_inches=None, pad_inches=0.1, frameon=True)"
   ]
  },
  {
   "cell_type": "code",
   "execution_count": null,
   "metadata": {},
   "outputs": [],
   "source": [
    "rec = 'DG032_2'\n",
    "filetype = 'tiff'\n",
    "dpi = 300\n",
    "\n",
    "alarm_state = alarm_states[rec]\n",
    "numbered = Series(np.zeros(len(alarm_state)), index = alarm_state.index)\n",
    "for i in range(1, len(alarm_state)):\n",
    "    if alarm_state.iloc[i]['State New'] == 'Active':\n",
    "        numbered[i] = alarm_list[rec].index(alarm_state.iloc[i]['Id']) + 1\n",
    "    \n",
    "fig = plt.figure()\n",
    "fig.set_size_inches(9, 7)\n",
    "fig.subplots_adjust(left=0.4, bottom=None, right=None, top=None, wspace=None, hspace=0.3)\n",
    "\n",
    "ax1 = fig.add_subplot(2, 1, 1);\n",
    "ax1.plot(alarm_state.index,  numbered, '|', color = 'red', markersize = 10, markeredgewidth = 0.5 )\n",
    "plt.xlabel(\"Time\", fontsize  = 12)\n",
    "plt.title(rec)\n",
    "plt.yticks([i+1  for i, _ in enumerate(alarm_list[rec])], alarm_list[rec], fontsize = 12);\n",
    "plt.xticks(fontsize = 8)\n",
    "plt.ylim(0.5, len(alarm_list[rec]) + 0.5)\n",
    "\n",
    "ax1 = fig.add_subplot(2, 1, 2)\n",
    "xs = [i + 0.1 for i, _ in enumerate(alarm_list[rec])]\n",
    "stats = []\n",
    "for alarm in alarm_list[rec]:\n",
    "    stats.append(alarm_stats[rec][alarm]['percentage of recording length (%)'])\n",
    "stats_all = pd.concat(stats)\n",
    "plt.barh(xs, stats_all, color = 'red')\n",
    "plt.xlabel(\"% of total recording time\", fontsize  = 12)\n",
    "plt.title(rec)\n",
    "plt.yticks([i + 0.5 for i, _ in enumerate(alarm_list[rec])], alarm_list[rec], fontsize = 12)\n",
    "plt.xticks(fontsize = 8);\n",
    "    \n",
    "fig.savefig('%s/%s.tiff' % (DIR_WRITE, 'Figure_1'), dpi=dpi, facecolor='w', edgecolor='w',\n",
    "        orientation='portrait', papertype=None, format= filetype,\n",
    "        transparent=False, bbox_inches=None, pad_inches=0.1, frameon=True)"
   ]
  },
  {
   "cell_type": "markdown",
   "metadata": {},
   "source": [
    "### Figure 2"
   ]
  },
  {
   "cell_type": "code",
   "execution_count": null,
   "metadata": {},
   "outputs": [],
   "source": [
    "rec = 'DG003'\n",
    "filetype = 'jpg'\n",
    "dpi = 300\n",
    "\n",
    "ymax = slow_measurements[rec]['MV_high_weight'].max() + 0.3\n",
    "    \n",
    "fig = plt.figure()\n",
    "fig.set_size_inches(8, 6)\n",
    "fig.subplots_adjust(left=None, bottom=None, right=None, top=None,\n",
    "    wspace=None, hspace=None)\n",
    "ax1 = fig.add_subplot(1, 1, 1);\n",
    "slow_measurements[rec]['MV_kg'].plot(ax = ax1, color = 'blue', ylim = [0, ymax] );\n",
    "slow_measurements[rec]['MV_low_weight'].plot(ax = ax1, color = 'green', linewidth = 3, ylim = [0, ymax] );\n",
    "slow_measurements[rec]['MV_high_weight'].plot(ax = ax1, color = 'red', linewidth = 3,  ylim = [0, ymax] );\n",
    "ax1.set_title(rec, size = 14, color = 'black')\n",
    "ax1.set_xlabel('Time', size = 14, color = 'black')\n",
    "ax1.set_ylabel('L/min/kg', size = 14, color = 'black')\n",
    "ax1.tick_params(which = 'both', labelsize=12)\n",
    "ax1.grid('on', linestyle='-', linewidth=0.5, color = 'gray')\n",
    "ax1.legend(['MV_kg', 'alarm_low', 'alarm_high']);\n",
    "\n",
    "fig.savefig('%s/%s.jpg' % (DIR_WRITE, 'Figure_2a_color'), dpi=dpi, facecolor='w', edgecolor='w',\n",
    "    orientation='portrait', papertype=None, format= filetype,\n",
    "    transparent=False, bbox_inches=None, pad_inches=0.1, frameon=True)"
   ]
  },
  {
   "cell_type": "code",
   "execution_count": null,
   "metadata": {},
   "outputs": [],
   "source": [
    "rec = 'DG003'\n",
    "filetype = 'jpg'\n",
    "dpi = 300\n",
    "\n",
    "ymax = slow_measurements[rec]['MV_high_weight'].max() + 0.3\n",
    "    \n",
    "fig = plt.figure()\n",
    "fig.set_size_inches(8, 6)\n",
    "fig.subplots_adjust(left=None, bottom=None, right=None, top=None,\n",
    "    wspace=None, hspace=None)\n",
    "ax1 = fig.add_subplot(1, 1, 1);\n",
    "\n",
    "slow_measurements[rec]['MV_kg'].plot(ax = ax1, color = 'black', alpha = 0.6, ylim = [0, ymax] );\n",
    "slow_measurements[rec]['MV_low_weight'].plot(ax = ax1, color = 'black', linewidth = 3, ylim = [0, ymax] );\n",
    "slow_measurements[rec]['MV_high_weight'].plot(ax = ax1, color = 'black', linewidth = 3,  ylim = [0, ymax] );\n",
    "\n",
    "ax1.set_title(rec, size = 14, color = 'black')\n",
    "ax1.set_xlabel('Time', size = 14, color = 'black')\n",
    "ax1.set_ylabel('L/min/kg', size = 14, color = 'black')\n",
    "ax1.tick_params(which = 'both', labelsize=12)\n",
    "ax1.grid('on', linestyle='-', linewidth=0.5, color = 'gray')\n",
    "ax1.legend(['MV_kg', 'alarm_low', 'alarm_high']);\n",
    "\n",
    "fig.savefig('%s/%s.jpg' % (DIR_WRITE, 'Figure_2a_bw'), dpi=dpi, facecolor='w', edgecolor='w',\n",
    "    orientation='portrait', papertype=None, format= filetype,\n",
    "    transparent=False, bbox_inches=None, pad_inches=0.1, frameon=True)"
   ]
  },
  {
   "cell_type": "code",
   "execution_count": null,
   "metadata": {},
   "outputs": [],
   "source": [
    "rec = 'DG041'\n",
    "filetype = 'jpg'\n",
    "dpi = 300\n",
    "\n",
    "ymax = slow_measurements[rec]['5001|RR [1/min]'].max() + 15\n",
    "    \n",
    "fig = plt.figure()\n",
    "fig.set_size_inches(8, 6)\n",
    "fig.subplots_adjust(left=None, bottom=None, right=None, top=None,\n",
    "wspace=None, hspace=0.7)\n",
    "ax1 = fig.add_subplot(1, 1, 1);\n",
    "    \n",
    "slow_measurements[rec]['5001|RR [1/min]'].plot(ax = ax1, color = 'blue', ylim = [0, ymax] );\n",
    "slow_measurements[rec]['RR_high'].plot(ax = ax1, color = 'red', linewidth = 3, ylim = [0, ymax] );\n",
    "slow_measurements[rec]['RR_set'].plot(ax = ax1, color = 'green', linewidth = 3, ylim = [0, ymax] );\n",
    "\n",
    "ax1.set_title(rec, size = 14, color = 'black')\n",
    "ax1.set_xlabel('Time', size = 14, color = 'black')\n",
    "ax1.set_ylabel('1/min', size = 14, color = 'black')\n",
    "ax1.grid('on', linestyle='-', linewidth=0.5, color = 'gray')\n",
    "ax1.legend(['RR', 'alarm_high', 'RR_set'])\n",
    "    \n",
    "fig.savefig('%s/%s.jpg' % (DIR_WRITE, 'Figure_2b_color'), dpi=dpi, facecolor='w', edgecolor='w',\n",
    "    orientation='portrait', papertype=None, format= filetype,\n",
    "    transparent=False, bbox_inches=None, pad_inches=0.1, frameon=True)"
   ]
  },
  {
   "cell_type": "code",
   "execution_count": null,
   "metadata": {},
   "outputs": [],
   "source": [
    "rec = 'DG041'\n",
    "filetype = 'jpg'\n",
    "dpi = 300\n",
    "\n",
    "ymax = slow_measurements[rec]['5001|RR [1/min]'].max() + 15\n",
    "    \n",
    "fig = plt.figure()\n",
    "fig.set_size_inches(8, 6)\n",
    "fig.subplots_adjust(left=None, bottom=None, right=None, top=None,\n",
    "wspace=None, hspace=0.7)\n",
    "ax1 = fig.add_subplot(1, 1, 1);\n",
    "    \n",
    "slow_measurements[rec]['5001|RR [1/min]'].plot(ax = ax1, color = 'black', alpha = 0.6, ylim = [0, ymax] );\n",
    "slow_measurements[rec]['RR_high'].plot(ax = ax1, color = 'black', linewidth = 3, ylim = [0, ymax] );\n",
    "slow_measurements[rec]['RR_set'].plot(ax = ax1, color = 'black', linewidth = 3, ylim = [0, ymax] );\n",
    "\n",
    "ax1.set_title(rec, size = 14, color = 'black')\n",
    "ax1.set_xlabel('Time', size = 14, color = 'black')\n",
    "ax1.set_ylabel('1/min', size = 14, color = 'black')\n",
    "ax1.grid('on', linestyle='-', linewidth=0.5, color = 'gray')\n",
    "ax1.legend(['RR', 'alarm_high', 'RR_set'])\n",
    "    \n",
    "fig.savefig('%s/%s.jpg' % (DIR_WRITE, 'Figure_2b_bw'), dpi=dpi, facecolor='w', edgecolor='w',\n",
    "    orientation='portrait', papertype=None, format= filetype,\n",
    "    transparent=False, bbox_inches=None, pad_inches=0.1, frameon=True)"
   ]
  },
  {
   "cell_type": "code",
   "execution_count": null,
   "metadata": {},
   "outputs": [],
   "source": [
    "rec0 = 'DG003'\n",
    "rec1 = 'DG041'\n",
    "filetype = 'tiff'\n",
    "dpi = 300\n",
    "\n",
    "ymax0 = slow_measurements[rec0]['MV_high_weight'].max() + 0.3\n",
    "ymax1 = slow_measurements[rec1]['5001|RR [1/min]'].max() + 15\n",
    "\n",
    "fig = plt.figure()\n",
    "fig.set_size_inches(6, 9)\n",
    "fig.subplots_adjust(left=None, bottom=None, right=None, top=None, wspace=None, hspace=0.3)\n",
    "\n",
    "ax0 = fig.add_subplot(2, 1, 1);\n",
    "slow_measurements[rec0]['MV_kg'].plot(ax = ax0, color = 'blue', ylim = [0, ymax0] );\n",
    "slow_measurements[rec0]['MV_low_weight'].plot(ax = ax0, color = 'green', linewidth = 3, ylim = [0, ymax0] );\n",
    "slow_measurements[rec0]['MV_high_weight'].plot(ax = ax0, color = 'red', linewidth = 3,  ylim = [0, ymax0] );\n",
    "ax0.set_title(rec0, size = 12, color = 'black')\n",
    "ax0.set_xlabel('', size = 12, color = 'black')\n",
    "ax0.set_ylabel('L/min/kg', size = 12, color = 'black')\n",
    "ax0.tick_params(which = 'both', labelsize=10)\n",
    "ax0.grid('on', linestyle='-', linewidth=0.5, color = 'gray')\n",
    "ax0.legend(['MV_kg', 'alarm_low', 'alarm_high']);\n",
    "\n",
    "ax1 = fig.add_subplot(2, 1, 2);    \n",
    "slow_measurements[rec1]['5001|RR [1/min]'].plot(ax = ax1, color = 'blue', ylim = [0, ymax1] );\n",
    "slow_measurements[rec1]['RR_high'].plot(ax = ax1, color = 'red', linewidth = 3, ylim = [0, ymax1] );\n",
    "slow_measurements[rec1]['RR_set'].plot(ax = ax1, color = 'green', linewidth = 3, ylim = [0, ymax1] );\n",
    "ax1.set_title(rec1, size = 12, color = 'black')\n",
    "ax1.set_xlabel('Time', size = 12, color = 'black')\n",
    "ax1.set_ylabel('1/min', size = 12, color = 'black')\n",
    "ax1.tick_params(which = 'both', labelsize=10)\n",
    "ax1.grid('on', linestyle='-', linewidth=0.5, color = 'gray')\n",
    "ax1.legend(['RR', 'alarm_high', 'RR_set'], loc = 4)\n",
    "    \n",
    "fig.savefig('%s/%s.tiff' % (DIR_WRITE, 'Figure_2'), dpi=dpi, facecolor='w', edgecolor='w',\n",
    "    orientation='portrait', papertype=None, format= filetype,\n",
    "    transparent=False, bbox_inches=None, pad_inches=0.1, frameon=True)"
   ]
  },
  {
   "cell_type": "markdown",
   "metadata": {},
   "source": [
    "### Figure 3"
   ]
  },
  {
   "cell_type": "code",
   "execution_count": null,
   "metadata": {},
   "outputs": [],
   "source": [
    "# Histogram showing the number of alarms which were shorter than 1 minute\n",
    "fig = plt.figure()\n",
    "fig.set_size_inches(7, 5)\n",
    "fig.subplots_adjust(left=None, bottom=None, right=None, top=None, wspace=None, hspace=None)\n",
    "ax1 = fig.add_subplot(1, 1, 1)\n",
    "n, bins, patches = plt.hist(all_durations, bins = range(0, 60))\n",
    "plt.grid(True)\n",
    "plt.xlabel('Alarm duration (seconds)', fontsize = 12)\n",
    "plt.ylabel('Number of alarm events', fontsize = 12)\n",
    "plt.xticks(range(0,60,4), fontsize = 12)\n",
    "plt.yticks(fontsize = 12)\n",
    "plt.title('Histogram of alarm durations', fontsize = 12)\n",
    "\n",
    "fig.savefig('%s/%s' % (DIR_WRITE, 'Figure_3.tiff'), dpi=300, facecolor='w', edgecolor='w',\n",
    "        orientation='portrait', papertype=None, format='tiff',\n",
    "        transparent=False, bbox_inches=None, pad_inches=0.1,\n",
    "        frameon=True)"
   ]
  },
  {
   "cell_type": "code",
   "execution_count": null,
   "metadata": {
    "collapsed": true
   },
   "outputs": [],
   "source": []
  },
  {
   "cell_type": "code",
   "execution_count": null,
   "metadata": {
    "collapsed": true
   },
   "outputs": [],
   "source": []
  }
 ],
 "metadata": {
  "anaconda-cloud": {},
  "kernelspec": {
   "display_name": "Python [default]",
   "language": "python",
   "name": "python3"
  },
  "language_info": {
   "codemirror_mode": {
    "name": "ipython",
    "version": 3
   },
   "file_extension": ".py",
   "mimetype": "text/x-python",
   "name": "python",
   "nbconvert_exporter": "python",
   "pygments_lexer": "ipython3",
   "version": "3.5.3"
  }
 },
 "nbformat": 4,
 "nbformat_minor": 1
}
